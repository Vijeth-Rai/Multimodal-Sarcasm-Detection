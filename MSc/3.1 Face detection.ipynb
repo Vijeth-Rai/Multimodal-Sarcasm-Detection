{
 "cells": [
  {
   "cell_type": "markdown",
   "id": "8c41cdc1",
   "metadata": {},
   "source": [
    "# Face Detection in Video\n",
    "Using MTCNN, facial detection algorithm, it is possible to gather screenshots and localized facial images without manually going through each video. The below code goes through each video, at 40 frame intervals. This interval is gradually reduced until all videos have faces detected."
   ]
  },
  {
   "cell_type": "code",
   "execution_count": 1,
   "id": "06c2aebe",
   "metadata": {},
   "outputs": [
    {
     "name": "stderr",
     "output_type": "stream",
     "text": [
      "100%|████████████████████████████████████████████████████████████████████████████| 1205/1205 [1:11:14<00:00,  3.55s/it]\n"
     ]
    }
   ],
   "source": [
    "from mtcnn import MTCNN\n",
    "import cv2\n",
    "import os\n",
    "from tqdm import tqdm\n",
    "import pickle\n",
    "\n",
    "# Path to directory containing videos\n",
    "dir_path = \"mustard++/final_utterance_videos/final_utterance_videos/\"\n",
    "\n",
    "# Create the detector, using default weights\n",
    "detector = MTCNN()\n",
    "\n",
    "# Create a directory to store frames\n",
    "frames_dir = os.path.join(dir_path, 'new_frames')\n",
    "os.makedirs(frames_dir, exist_ok=True)\n",
    "\n",
    "# List to store names of videos where no faces were detected\n",
    "no_face_videos = []\n",
    "\n",
    "# Loop through each file in the directory\n",
    "for filename in tqdm(os.listdir(dir_path)):\n",
    "    # Check if the file is a video\n",
    "    if filename.endswith('.mp4'):\n",
    "        # Full file path\n",
    "        video_path = os.path.join(dir_path, filename)\n",
    "        \n",
    "        # Open the video file\n",
    "        cap = cv2.VideoCapture(video_path)\n",
    "\n",
    "        if not cap.isOpened():\n",
    "            print(f\"Failed to open video at path: {video_path}\")\n",
    "            continue\n",
    "\n",
    "        face_detected = False\n",
    "        frame_count = 0\n",
    "        frame_skip = 40 # Number of frames to skip\n",
    "\n",
    "        while True:\n",
    "            # Skip frames\n",
    "            for _ in range(frame_skip):\n",
    "                ret = cap.grab()\n",
    "                if not ret:\n",
    "                    break\n",
    "\n",
    "            # Read frame from video\n",
    "            ret, frame = cap.retrieve()\n",
    "            \n",
    "            # Break the loop if frame is not returned\n",
    "            if not ret:\n",
    "                break\n",
    "\n",
    "            # Detect faces\n",
    "            faces = detector.detect_faces(frame)\n",
    "\n",
    "            # If faces are detected, save the frame to disk\n",
    "            if faces:\n",
    "                face_detected = True\n",
    "                frame_count += 1\n",
    "\n",
    "                # Build the frame file path\n",
    "                frame_file_path = os.path.join(frames_dir, f\"{os.path.splitext(filename)[0]}_{frame_count}.jpg\")\n",
    "                # Save the frame to disk\n",
    "                cv2.imwrite(frame_file_path, frame)\n",
    "\n",
    "        # Release the video capture object\n",
    "        cap.release()\n",
    "\n",
    "        # If no face was detected in the video, add its name to the list\n",
    "        if not face_detected:\n",
    "            no_face_videos.append(filename)\n",
    "\n",
    "# Close all OpenCV windows\n",
    "cv2.destroyAllWindows()\n",
    "\n",
    "# Save the list of videos where no faces were detected to a pickle file\n",
    "with open('no_face_videos.pkl', 'wb') as f:\n",
    "    pickle.dump(no_face_videos, f)\n"
   ]
  },
  {
   "cell_type": "markdown",
   "id": "598d1914",
   "metadata": {},
   "source": [
    "### Checking if there are videos where no faces detected"
   ]
  },
  {
   "cell_type": "code",
   "execution_count": 5,
   "id": "84b72fcc",
   "metadata": {},
   "outputs": [
    {
     "data": {
      "text/plain": [
       "142"
      ]
     },
     "execution_count": 5,
     "metadata": {},
     "output_type": "execute_result"
    }
   ],
   "source": [
    "len(no_face_videos)"
   ]
  },
  {
   "cell_type": "markdown",
   "id": "512e9a52",
   "metadata": {},
   "source": [
    "# Copying the videos with no faces to seperate directory"
   ]
  },
  {
   "cell_type": "code",
   "execution_count": 3,
   "id": "9a8ab8a0",
   "metadata": {},
   "outputs": [],
   "source": [
    "import os\n",
    "import shutil\n",
    "\n",
    "# Define the path of the source and destination directories\n",
    "src_dir = \"mustard++/final_utterance_videos/final_utterance_videos/\"\n",
    "dst_dir = \"copy\"\n",
    "\n",
    "# Check if the destination directory exists, if not, create it\n",
    "if not os.path.exists(dst_dir):\n",
    "    os.makedirs(dst_dir)\n",
    "\n",
    "# List of videos with no face\n",
    "\n",
    "# Copy each video\n",
    "for video in no_face_videos:\n",
    "    # Define the full path of the source and destination files\n",
    "    src_file = os.path.join(src_dir, video)\n",
    "    dst_file = os.path.join(dst_dir, video)\n",
    "\n",
    "    # Copy the file\n",
    "    if os.path.exists(src_file):\n",
    "        shutil.copy(src_file, dst_file)\n",
    "    else:\n",
    "        print(f\"Source file {src_file} does not exist.\")\n"
   ]
  },
  {
   "cell_type": "markdown",
   "id": "148674e4",
   "metadata": {},
   "source": [
    "# MTCNN on remaining videos"
   ]
  },
  {
   "cell_type": "code",
   "execution_count": 1,
   "id": "b251af24",
   "metadata": {},
   "outputs": [
    {
     "name": "stderr",
     "output_type": "stream",
     "text": [
      "100%|████████████████████████████████████████████████████████████████████████████████| 143/143 [02:48<00:00,  1.18s/it]\n"
     ]
    }
   ],
   "source": [
    "from mtcnn import MTCNN\n",
    "import cv2\n",
    "import os\n",
    "from tqdm import tqdm\n",
    "import pickle\n",
    "\n",
    "# Path to directory containing videos\n",
    "dir_path = \"copy\"\n",
    "\n",
    "# Create the detector, using default weights\n",
    "detector = MTCNN()\n",
    "\n",
    "# Create a directory to store frames\n",
    "frames_dir = os.path.join(dir_path, 'new_frames')\n",
    "os.makedirs(frames_dir, exist_ok=True)\n",
    "\n",
    "# List to store names of videos where no faces were detected\n",
    "no_face_videos = []\n",
    "\n",
    "# Loop through each file in the directory\n",
    "for filename in tqdm(os.listdir(dir_path)):\n",
    "    # Check if the file is a video\n",
    "    if filename.endswith('.mp4'):\n",
    "        # Full file path\n",
    "        video_path = os.path.join(dir_path, filename)\n",
    "        \n",
    "        # Open the video file\n",
    "        cap = cv2.VideoCapture(video_path)\n",
    "\n",
    "        if not cap.isOpened():\n",
    "            print(f\"Failed to open video at path: {video_path}\")\n",
    "            continue\n",
    "\n",
    "        face_detected = False\n",
    "        frame_count = 0\n",
    "        frame_skip = 20 # Number of frames to skip\n",
    "\n",
    "        while True:\n",
    "            # Skip frames\n",
    "            for _ in range(frame_skip):\n",
    "                ret = cap.grab()\n",
    "                if not ret:\n",
    "                    break\n",
    "\n",
    "            # Read frame from video\n",
    "            ret, frame = cap.retrieve()\n",
    "            \n",
    "            # Break the loop if frame is not returned\n",
    "            if not ret:\n",
    "                break\n",
    "\n",
    "            # Detect faces\n",
    "            faces = detector.detect_faces(frame)\n",
    "\n",
    "            # If faces are detected, save the frame to disk\n",
    "            if faces:\n",
    "                face_detected = True\n",
    "                frame_count += 1\n",
    "\n",
    "                # Build the frame file path\n",
    "                frame_file_path = os.path.join(frames_dir, f\"{os.path.splitext(filename)[0]}_{frame_count}.jpg\")\n",
    "                # Save the frame to disk\n",
    "                cv2.imwrite(frame_file_path, frame)\n",
    "\n",
    "        # Release the video capture object\n",
    "        cap.release()\n",
    "\n",
    "        # If no face was detected in the video, add its name to the list\n",
    "        if not face_detected:\n",
    "            no_face_videos.append(filename)\n",
    "\n",
    "# Close all OpenCV windows\n",
    "cv2.destroyAllWindows()\n",
    "\n",
    "# Save the list of videos where no faces were detected to a pickle file\n",
    "with open('no_face_videos.pkl', 'wb') as f:\n",
    "    pickle.dump(no_face_videos, f)\n"
   ]
  },
  {
   "cell_type": "markdown",
   "id": "d07a1427",
   "metadata": {},
   "source": [
    "# Checking for no face videos"
   ]
  },
  {
   "cell_type": "code",
   "execution_count": 2,
   "id": "b93e8b08",
   "metadata": {},
   "outputs": [
    {
     "data": {
      "text/plain": [
       "['1_10748_u.mp4',\n",
       " '1_2614_u.mp4',\n",
       " '1_6627_u.mp4',\n",
       " '1_S10E04_021_u.mp4',\n",
       " '1_S10E05_288_u.mp4',\n",
       " '1_S10E17_287_u.mp4',\n",
       " '1_S12E02_471_u.mp4',\n",
       " '2_107_u.mp4',\n",
       " '2_111_u.mp4',\n",
       " '2_149_u.mp4',\n",
       " '2_196_u.mp4',\n",
       " '2_202_u.mp4',\n",
       " '2_222_u.mp4',\n",
       " '2_264_u.mp4',\n",
       " '2_278_u.mp4',\n",
       " '2_281_u.mp4',\n",
       " '2_292_u.mp4',\n",
       " '2_293_u.mp4',\n",
       " '2_316_u.mp4',\n",
       " '2_319_u.mp4',\n",
       " '2_356_u.mp4',\n",
       " '2_361_u.mp4',\n",
       " '2_369_u.mp4',\n",
       " '2_398_u.mp4',\n",
       " '2_445_u.mp4',\n",
       " '2_464_u.mp4',\n",
       " '2_481_u.mp4',\n",
       " '2_521_u.mp4',\n",
       " '2_526_u.mp4',\n",
       " '2_530_u.mp4',\n",
       " '2_536_u.mp4',\n",
       " '2_540_u.mp4',\n",
       " '2_549_u.mp4',\n",
       " '2_552_u.mp4',\n",
       " '2_58_u.mp4',\n",
       " '2_97_u.mp4',\n",
       " '3_S01E01_255_u.mp4',\n",
       " '3_S01E05_456_u.mp4',\n",
       " '3_S02E10_133_u.mp4',\n",
       " '3_S03E01_185_u.mp4',\n",
       " '3_S03E03_111_u.mp4']"
      ]
     },
     "execution_count": 2,
     "metadata": {},
     "output_type": "execute_result"
    }
   ],
   "source": [
    "import pickle\n",
    "\n",
    "with open('no_face_videos.pkl', 'rb') as f:\n",
    "    no_face_videos = pickle.load(f)\n",
    "\n",
    "no_face_videos"
   ]
  },
  {
   "cell_type": "markdown",
   "id": "4023dd68",
   "metadata": {},
   "source": [
    "# Repeating the copy and facial detection again"
   ]
  },
  {
   "cell_type": "code",
   "execution_count": 3,
   "id": "959b8737",
   "metadata": {},
   "outputs": [],
   "source": [
    "import os\n",
    "import shutil\n",
    "\n",
    "# Define the path of the source and destination directories\n",
    "src_dir = \"copy\"\n",
    "dst_dir = \"copy/new_copy\"\n",
    "\n",
    "# Check if the destination directory exists, if not, create it\n",
    "if not os.path.exists(dst_dir):\n",
    "    os.makedirs(dst_dir)\n",
    "\n",
    "# Copy each video\n",
    "for video in no_face_videos:\n",
    "    # Define the full path of the source and destination files\n",
    "    src_file = os.path.join(src_dir, video)\n",
    "    dst_file = os.path.join(dst_dir, video)\n",
    "\n",
    "    # Copy the file\n",
    "    if os.path.exists(src_file):\n",
    "        shutil.copy(src_file, dst_file)\n",
    "    else:\n",
    "        print(f\"Source file {src_file} does not exist.\")\n"
   ]
  },
  {
   "cell_type": "code",
   "execution_count": 5,
   "id": "5ca012b0",
   "metadata": {},
   "outputs": [
    {
     "name": "stderr",
     "output_type": "stream",
     "text": [
      "100%|██████████████████████████████████████████████████████████████████████████████████| 42/42 [40:24<00:00, 57.72s/it]\n"
     ]
    }
   ],
   "source": [
    "from mtcnn import MTCNN\n",
    "import cv2\n",
    "import os\n",
    "from tqdm import tqdm\n",
    "import pickle\n",
    "\n",
    "# Path to directory containing videos\n",
    "dir_path = \"copy/new_copy\"\n",
    "\n",
    "# Create the detector, using default weights\n",
    "detector = MTCNN()\n",
    "\n",
    "# Create a directory to store frames\n",
    "frames_dir = os.path.join(dir_path, 'new_frames')\n",
    "os.makedirs(frames_dir, exist_ok=True)\n",
    "\n",
    "# List to store names of videos where no faces were detected\n",
    "no_face_videos = []\n",
    "\n",
    "# Loop through each file in the directory\n",
    "for filename in tqdm(os.listdir(dir_path)):\n",
    "    # Check if the file is a video\n",
    "    if filename.endswith('.mp4'):\n",
    "        # Full file path\n",
    "        video_path = os.path.join(dir_path, filename)\n",
    "        \n",
    "        # Open the video file\n",
    "        cap = cv2.VideoCapture(video_path)\n",
    "\n",
    "        if not cap.isOpened():\n",
    "            print(f\"Failed to open video at path: {video_path}\")\n",
    "            continue\n",
    "\n",
    "        face_detected = False\n",
    "        frame_count = 0\n",
    "        frame_skip = 1 # Number of frames to skip\n",
    "\n",
    "        while True:\n",
    "            # Skip frames\n",
    "            for _ in range(frame_skip):\n",
    "                ret = cap.grab()\n",
    "                if not ret:\n",
    "                    break\n",
    "\n",
    "            # Read frame from video\n",
    "            ret, frame = cap.retrieve()\n",
    "            \n",
    "            # Break the loop if frame is not returned\n",
    "            if not ret:\n",
    "                break\n",
    "\n",
    "            # Detect faces\n",
    "            faces = detector.detect_faces(frame)\n",
    "\n",
    "            # If faces are detected, save the frame to disk\n",
    "            if faces:\n",
    "                face_detected = True\n",
    "                frame_count += 1\n",
    "\n",
    "                # Build the frame file path\n",
    "                frame_file_path = os.path.join(frames_dir, f\"{os.path.splitext(filename)[0]}_{frame_count}.jpg\")\n",
    "                # Save the frame to disk\n",
    "                cv2.imwrite(frame_file_path, frame)\n",
    "\n",
    "        # Release the video capture object\n",
    "        cap.release()\n",
    "\n",
    "        # If no face was detected in the video, add its name to the list\n",
    "        if not face_detected:\n",
    "            no_face_videos.append(filename)\n",
    "\n",
    "# Close all OpenCV windows\n",
    "cv2.destroyAllWindows()\n",
    "\n",
    "# Save the list of videos where no faces were detected to a pickle file\n",
    "with open('no_face_videos.pkl', 'wb') as f:\n",
    "    pickle.dump(no_face_videos, f)\n"
   ]
  },
  {
   "cell_type": "markdown",
   "id": "7550f7fa",
   "metadata": {},
   "source": [
    "# Checking for no face videos"
   ]
  },
  {
   "cell_type": "code",
   "execution_count": 6,
   "id": "aad1ceea",
   "metadata": {},
   "outputs": [
    {
     "data": {
      "text/plain": [
       "['1_6627_u.mp4',\n",
       " '1_S10E04_021_u.mp4',\n",
       " '1_S12E02_471_u.mp4',\n",
       " '2_196_u.mp4',\n",
       " '2_292_u.mp4']"
      ]
     },
     "execution_count": 6,
     "metadata": {},
     "output_type": "execute_result"
    }
   ],
   "source": [
    "no_face_videos"
   ]
  },
  {
   "cell_type": "code",
   "execution_count": 7,
   "id": "d72352c5",
   "metadata": {},
   "outputs": [],
   "source": [
    "import os\n",
    "import shutil\n",
    "\n",
    "# Define the path of the source and destination directories\n",
    "src_dir = \"copy/new_copy\"\n",
    "dst_dir = \"copy/new_copy/new_copy_copy\"\n",
    "\n",
    "# Check if the destination directory exists, if not, create it\n",
    "if not os.path.exists(dst_dir):\n",
    "    os.makedirs(dst_dir)\n",
    "\n",
    "# Copy each video\n",
    "for video in no_face_videos:\n",
    "    # Define the full path of the source and destination files\n",
    "    src_file = os.path.join(src_dir, video)\n",
    "    dst_file = os.path.join(dst_dir, video)\n",
    "\n",
    "    # Copy the file\n",
    "    if os.path.exists(src_file):\n",
    "        shutil.copy(src_file, dst_file)\n",
    "    else:\n",
    "        print(f\"Source file {src_file} does not exist.\")\n"
   ]
  },
  {
   "cell_type": "markdown",
   "id": "a1f24024",
   "metadata": {},
   "source": [
    "# Observation:\n",
    "\n",
    "After manually going through the remaining videos, it is seen that these videos infact do not have clear faces as they are very low resolution videos."
   ]
  }
 ],
 "metadata": {
  "kernelspec": {
   "display_name": "Python 3 (ipykernel)",
   "language": "python",
   "name": "python3"
  },
  "language_info": {
   "codemirror_mode": {
    "name": "ipython",
    "version": 3
   },
   "file_extension": ".py",
   "mimetype": "text/x-python",
   "name": "python",
   "nbconvert_exporter": "python",
   "pygments_lexer": "ipython3",
   "version": "3.11.4"
  }
 },
 "nbformat": 4,
 "nbformat_minor": 5
}
