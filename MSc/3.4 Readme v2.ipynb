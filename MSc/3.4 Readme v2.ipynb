{
 "cells": [
  {
   "cell_type": "markdown",
   "id": "ac19fbe0",
   "metadata": {},
   "source": [
    "Notebook 3.4 until notebook 4 are located in the directory 'mustard++/Facial-Expression-Recognition.Pytorch-master'. This is because all the libraries related to the VGG-FER model are downloaded and stored in this folder."
   ]
  }
 ],
 "metadata": {
  "kernelspec": {
   "display_name": "Python 3 (ipykernel)",
   "language": "python",
   "name": "python3"
  },
  "language_info": {
   "codemirror_mode": {
    "name": "ipython",
    "version": 3
   },
   "file_extension": ".py",
   "mimetype": "text/x-python",
   "name": "python",
   "nbconvert_exporter": "python",
   "pygments_lexer": "ipython3",
   "version": "3.11.4"
  }
 },
 "nbformat": 4,
 "nbformat_minor": 5
}
