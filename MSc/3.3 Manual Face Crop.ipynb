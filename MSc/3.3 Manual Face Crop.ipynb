{
 "cells": [
  {
   "cell_type": "markdown",
   "id": "a1eb07fb",
   "metadata": {},
   "source": [
    "# Manual Face cropping\n",
    "\n",
    "Each image is gone through one by one. The face of the speaker is cropped. The speaker name is displayed on the screen as well."
   ]
  },
  {
   "cell_type": "code",
   "execution_count": null,
   "id": "e34aff69",
   "metadata": {},
   "outputs": [],
   "source": [
    "import pandas as pd\n",
    "import cv2\n",
    "import matplotlib.pyplot as plt\n",
    "from pathlib import Path\n",
    "\n",
    "# Load the dataframe\n",
    "df = pd.read_csv('mustard++/dataframe.csv')\n",
    "\n",
    "# Path to directory containing images\n",
    "img_dir = Path('mustard++/cropped')\n",
    "\n",
    "# Path to directory to save cropped images\n",
    "crop_dir = Path('mustard++/localized')\n",
    "\n",
    "# Ensure cropped images directory exists\n",
    "crop_dir.mkdir(parents=True, exist_ok=True)\n",
    "\n",
    "def manual_crop(image):\n",
    "    r = cv2.selectROI(image)\n",
    "    cropped = image[int(r[1]):int(r[1]+r[3]), int(r[0]):int(r[0]+r[2])]\n",
    "    return cropped\n",
    "\n",
    "# Go through each image in directory\n",
    "for img_path in img_dir.glob('*.png'):  # Change '*.png' to match the image file types in your folder\n",
    "    img = cv2.imread(str(img_path))\n",
    "\n",
    "    # Show image for manual cropping\n",
    "    cropped_img = manual_crop(img)\n",
    "    \n",
    "    # Show cropped image\n",
    "    cv2.imshow('Cropped Image', cropped_img)\n",
    "    cv2.waitKey(0)\n",
    "\n",
    "    # Save the cropped image\n",
    "    crop_img_path = crop_dir / img_path.name\n",
    "    cv2.imwrite(str(crop_img_path), cropped_img)\n",
    "\n",
    "    # Retrieve speaker based on image name\n",
    "    img_name = img_path.stem  # gets filename without extension\n",
    "\n",
    "# Close all OpenCV windows\n",
    "cv2.destroyAllWindows()\n"
   ]
  },
  {
   "cell_type": "markdown",
   "id": "5235617e",
   "metadata": {},
   "source": [
    "### Manually cropping each image takes too long. Hence the below code is used to complete the cropping process in more than 1 sitting"
   ]
  },
  {
   "cell_type": "code",
   "execution_count": 2,
   "id": "9cc4b57d",
   "metadata": {},
   "outputs": [],
   "source": [
    "import pandas as pd\n",
    "import cv2\n",
    "from pathlib import Path\n",
    "\n",
    "# Load the dataframe\n",
    "df = pd.read_csv('mustard++/dataframe.csv')\n",
    "\n",
    "# Path to directory containing images\n",
    "img_dir = Path('mustard++/cropped')\n",
    "\n",
    "# Path to directory to save cropped images\n",
    "crop_dir = Path('mustard++/localized')\n",
    "\n",
    "# Ensure cropped images directory exists\n",
    "crop_dir.mkdir(parents=True, exist_ok=True)\n",
    "\n",
    "def manual_crop(image):\n",
    "    r = cv2.selectROI(image)\n",
    "    cropped = image[int(r[1]):int(r[1]+r[3]), int(r[0]):int(r[0]+r[2])]\n",
    "    return cropped\n",
    "\n",
    "# Go through each image in directory\n",
    "for img_path in img_dir.glob('*.png'):  # Change '*.png' to match the image file types in your folder\n",
    "    # Check if cropped image already exists\n",
    "    crop_img_path = crop_dir / img_path.name\n",
    "    if crop_img_path.exists():\n",
    "        continue  # Skip if cropped image already exists\n",
    "\n",
    "    img = cv2.imread(str(img_path))\n",
    "\n",
    "    # Show image for manual cropping\n",
    "    cropped_img = manual_crop(img)\n",
    "    \n",
    "    # Show cropped image\n",
    "    cv2.imshow('Cropped Image', cropped_img)\n",
    "    cv2.waitKey(0)\n",
    "\n",
    "    # Save the cropped image\n",
    "    cv2.imwrite(str(crop_img_path), cropped_img)\n",
    "\n",
    "    # Retrieve speaker based on image name\n",
    "    img_name = img_path.stem  # gets filename without extension\n",
    "\n",
    "# Close all OpenCV windows\n",
    "cv2.destroyAllWindows()\n"
   ]
  }
 ],
 "metadata": {
  "kernelspec": {
   "display_name": "Python 3 (ipykernel)",
   "language": "python",
   "name": "python3"
  },
  "language_info": {
   "codemirror_mode": {
    "name": "ipython",
    "version": 3
   },
   "file_extension": ".py",
   "mimetype": "text/x-python",
   "name": "python",
   "nbconvert_exporter": "python",
   "pygments_lexer": "ipython3",
   "version": "3.11.4"
  }
 },
 "nbformat": 4,
 "nbformat_minor": 5
}
