{
 "cells": [
  {
   "cell_type": "markdown",
   "id": "d56b27b8",
   "metadata": {},
   "source": [
    "# Loading Data and Merging"
   ]
  },
  {
   "cell_type": "code",
   "execution_count": 1,
   "id": "ed61dee9",
   "metadata": {},
   "outputs": [
    {
     "name": "stderr",
     "output_type": "stream",
     "text": [
      "C:\\Users\\vijet\\AppData\\Local\\Temp\\ipykernel_19772\\3346596204.py:11: FutureWarning: In a future version of pandas all arguments of StringMethods.rsplit except for the argument 'pat' will be keyword-only.\n",
      "  filtered_audio['SCENE'] = filtered_audio['file_name'].str.rsplit('_', 1).str[0]\n",
      "C:\\Users\\vijet\\AppData\\Local\\Temp\\ipykernel_19772\\3346596204.py:11: SettingWithCopyWarning: \n",
      "A value is trying to be set on a copy of a slice from a DataFrame.\n",
      "Try using .loc[row_indexer,col_indexer] = value instead\n",
      "\n",
      "See the caveats in the documentation: https://pandas.pydata.org/pandas-docs/stable/user_guide/indexing.html#returning-a-view-versus-a-copy\n",
      "  filtered_audio['SCENE'] = filtered_audio['file_name'].str.rsplit('_', 1).str[0]\n",
      "C:\\Users\\vijet\\AppData\\Local\\Temp\\ipykernel_19772\\3346596204.py:12: SettingWithCopyWarning: \n",
      "A value is trying to be set on a copy of a slice from a DataFrame\n",
      "\n",
      "See the caveats in the documentation: https://pandas.pydata.org/pandas-docs/stable/user_guide/indexing.html#returning-a-view-versus-a-copy\n",
      "  filtered_audio.drop('file_name', inplace=True, axis=1)\n",
      "C:\\Users\\vijet\\AppData\\Local\\Temp\\ipykernel_19772\\3346596204.py:14: FutureWarning: In a future version of pandas all arguments of StringMethods.rsplit except for the argument 'pat' will be keyword-only.\n",
      "  image['SCENE'] = image['ImageName'].str.rsplit('_u', 1).str[0]\n"
     ]
    }
   ],
   "source": [
    "import pandas as pd\n",
    "\n",
    "text = pd.read_csv('text_final.csv')\n",
    "text = text.iloc[:,:-27]\n",
    "audio = pd.read_csv('df_new.csv')\n",
    "image = pd.read_csv('mustard++/Facial-Expression-Recognition.Pytorch-master/final_image_embeddings.csv')\n",
    "labels = pd.read_csv('labels_final.csv')\n",
    "\n",
    "# Filter rows where 'file_name' contains '.wav' once\n",
    "filtered_audio = audio[audio['file_name'].str.count('.wav') == 1]\n",
    "filtered_audio['SCENE'] = filtered_audio['file_name'].str.rsplit('_', 1).str[0]\n",
    "filtered_audio.drop('file_name', inplace=True, axis=1)\n",
    "\n",
    "image['SCENE'] = image['ImageName'].str.rsplit('_u', 1).str[0]\n",
    "image.drop('ImageName', inplace=True, axis=1)\n",
    "image = image.drop_duplicates(subset='SCENE', keep='first')\n",
    "\n",
    "merged_df = filtered_audio.merge(text, on='SCENE', how='inner')\n",
    "merged_df = merged_df.merge(image, on='SCENE', how='inner')\n",
    "\n",
    "multimodal_df = merged_df.dropna()\n",
    "\n",
    "merged_df = pd.merge(multimodal_df, labels[['SCENE', 'Sarcasm']], on='SCENE', how='left')\n",
    "#merged_df.drop(columns=['SCENE'], inplace=True)\n",
    "merged_df.drop(columns=['Sarcasm_y'], inplace=True)\n",
    "merged_df.dropna(inplace=True)\n",
    "\n",
    "# Filter the rows in labels based on the SCENE column of merged_df\n",
    "labels = labels[labels['SCENE'].isin(merged_df['SCENE'])]\n",
    "\n",
    "merged_df.set_index('SCENE', inplace=True)\n",
    "text.set_index('SCENE', inplace=True)\n",
    "\n",
    "\n",
    "# Extract columns for the 'image' dataframe\n",
    "image_cols = [col for col in merged_df.columns if col.startswith('embed_') or col == 'SCENE']\n",
    "image_df = merged_df[image_cols]\n",
    "\n",
    "# Extract columns for the 'text' dataframe\n",
    "text_cols = [col for col in merged_df.columns if col.startswith('Embedding_') or col == 'SCENE']\n",
    "text_df = merged_df[text_cols]\n",
    "\n",
    "# Extract columns for the 'audio' dataframe\n",
    "audio_cols = [col for col in merged_df.columns if col.startswith('embedding_') or col == 'SCENE']\n",
    "audio_df = merged_df[audio_cols]"
   ]
  },
  {
   "cell_type": "markdown",
   "id": "29df0c31",
   "metadata": {},
   "source": [
    "### Function to display metrics"
   ]
  },
  {
   "cell_type": "code",
   "execution_count": 2,
   "id": "c5c200f4",
   "metadata": {},
   "outputs": [],
   "source": [
    "def display_metrics(y_tes,y_pre):\n",
    "    # Calculate metrics\n",
    "    accuracy = accuracy_score(y_tes, y_pre)\n",
    "    precision = precision_score(y_tes, y_pre)\n",
    "    recall = recall_score(y_tes, y_pre)\n",
    "    f1 = f1_score(y_tes, y_pre)\n",
    "\n",
    "    print(\"Accuracy:\", accuracy)\n",
    "    print(\"Precision:\", precision)\n",
    "    print(\"Recall:\", recall)\n",
    "    print(\"F1 Score:\", f1)"
   ]
  },
  {
   "cell_type": "markdown",
   "id": "1ba5042a",
   "metadata": {},
   "source": [
    "# Text Model"
   ]
  },
  {
   "cell_type": "code",
   "execution_count": 3,
   "id": "9953eaba",
   "metadata": {},
   "outputs": [
    {
     "name": "stdout",
     "output_type": "stream",
     "text": [
      "\n",
      " Train set metrics\n",
      "Accuracy: 0.7163712200208551\n",
      "Precision: 0.8187134502923976\n",
      "Recall: 0.7011686143572621\n",
      "F1 Score: 0.7553956834532373\n",
      "\n",
      " Test set metrics\n",
      "Accuracy: 0.7102803738317757\n",
      "Precision: 0.7966101694915254\n",
      "Recall: 0.7121212121212122\n",
      "F1 Score: 0.7520000000000001\n"
     ]
    }
   ],
   "source": [
    "from tensorflow.keras.models import load_model\n",
    "from sklearn.preprocessing import StandardScaler\n",
    "from sklearn.model_selection import train_test_split\n",
    "import numpy as np\n",
    "from sklearn.metrics import accuracy_score, precision_score, recall_score, f1_score\n",
    "import pickle\n",
    "\n",
    "# Scale the input features\n",
    "scaler = StandardScaler()\n",
    "text_scaled = scaler.fit_transform(text_df)\n",
    "label = labels['Sarcasm'].astype(int)\n",
    "\n",
    "# Split data into train and test\n",
    "X_train, X_test, y_train, y_test = train_test_split(text_scaled, label, test_size=0.1, random_state=42)\n",
    "\n",
    "# Load the model back into memory\n",
    "with open('independant_svm_model.pkl', 'rb') as model_file:\n",
    "    loaded_svm_best = pickle.load(model_file)\n",
    "\n",
    "\n",
    "historyy_pred_prob = loaded_svm_best.predict(X_train)\n",
    "y_pred_text = np.round(historyy_pred_prob).astype(int)\n",
    "\n",
    "print('\\n Train set metrics')\n",
    "display_metrics(y_pred_text, y_train)\n",
    "\n",
    "historyy_pred_prob = loaded_svm_best.predict(X_test)\n",
    "y_pred_text = np.round(historyy_pred_prob).astype(int)\n",
    "\n",
    "# Calculate metrics\n",
    "print('\\n Test set metrics')\n",
    "display_metrics(y_pred_text, y_test)\n",
    "\n",
    "\n",
    "historyy_pred_prob = loaded_svm_best.predict(text_scaled)\n",
    "y_pred_text = np.round(historyy_pred_prob).astype(int)"
   ]
  },
  {
   "cell_type": "markdown",
   "id": "0a286cb5",
   "metadata": {},
   "source": [
    "#### Observation: No overfit is seen"
   ]
  },
  {
   "cell_type": "markdown",
   "id": "9f99bced",
   "metadata": {},
   "source": [
    "# Image Model"
   ]
  },
  {
   "cell_type": "code",
   "execution_count": 4,
   "id": "5527892b",
   "metadata": {},
   "outputs": [
    {
     "name": "stdout",
     "output_type": "stream",
     "text": [
      "\n",
      " Train set metrics\n",
      "Accuracy: 0.5516162669447341\n",
      "Precision: 0.5964912280701754\n",
      "Recall: 0.5784499054820416\n",
      "F1 Score: 0.5873320537428023\n",
      "\n",
      " Test set metrics\n",
      "Accuracy: 0.5887850467289719\n",
      "Precision: 0.6101694915254238\n",
      "Recall: 0.631578947368421\n",
      "F1 Score: 0.6206896551724138\n"
     ]
    }
   ],
   "source": [
    "# Scale the input features\n",
    "scaler = StandardScaler()\n",
    "image_scaled = scaler.fit_transform(image_df)\n",
    "\n",
    "# If your labels are boolean values, convert them into binary format\n",
    "label = labels['Sarcasm'].astype(int)\n",
    "\n",
    "# Split data into train and test\n",
    "X_train, X_test, y_train, y_test = train_test_split(image_scaled, label, test_size=0.1, random_state=42)\n",
    "\n",
    "# Load the model back into memory\n",
    "with open('independant_image_model.pkl', 'rb') as model_file:\n",
    "    loaded_rf_best = pickle.load(model_file)\n",
    "\n",
    "\n",
    "historyy_pred_prob = loaded_rf_best.predict(X_train)\n",
    "y_pred_image = np.round(historyy_pred_prob).astype(int)\n",
    "\n",
    "print('\\n Train set metrics')\n",
    "display_metrics(y_pred_image, y_train)\n",
    "\n",
    "historyy_pred_prob = loaded_rf_best.predict(X_test)\n",
    "y_pred_image = np.round(historyy_pred_prob).astype(int)\n",
    "\n",
    "# Calculate metrics\n",
    "print('\\n Test set metrics')\n",
    "display_metrics(y_pred_image, y_test)\n",
    "\n",
    "\n",
    "historyy_pred_prob = loaded_rf_best.predict(image_scaled)\n",
    "y_pred_image = np.round(historyy_pred_prob).astype(int)"
   ]
  },
  {
   "cell_type": "markdown",
   "id": "b0c117fc",
   "metadata": {},
   "source": [
    "#### Observation: No overfit is seen"
   ]
  },
  {
   "cell_type": "markdown",
   "id": "80ed0ca0",
   "metadata": {},
   "source": [
    "# Audio Model"
   ]
  },
  {
   "cell_type": "code",
   "execution_count": 5,
   "id": "4a3dcbf0",
   "metadata": {},
   "outputs": [
    {
     "name": "stdout",
     "output_type": "stream",
     "text": [
      "\n",
      " Train set metrics\n",
      "Accuracy: 0.6360792492179353\n",
      "Precision: 0.6939571150097466\n",
      "Recall: 0.6496350364963503\n",
      "F1 Score: 0.6710650329877473\n",
      "\n",
      " Test set metrics\n",
      "Accuracy: 0.6635514018691588\n",
      "Precision: 0.711864406779661\n",
      "Recall: 0.6885245901639344\n",
      "F1 Score: 0.7\n"
     ]
    }
   ],
   "source": [
    "# Scale the input features\n",
    "scaler = StandardScaler()\n",
    "audio_scaled = scaler.fit_transform(audio_df)\n",
    "\n",
    "# If your labels are boolean values, convert them into binary format\n",
    "label = labels['Sarcasm'].astype(int)\n",
    "\n",
    "# Split data into train and test\n",
    "X_train, X_test, y_train, y_test = train_test_split(audio_scaled, label, test_size=0.1, random_state=42)\n",
    "\n",
    "# Load the model back into memory\n",
    "with open('independant_audio_model.pkl', 'rb') as model_file:\n",
    "    loaded_svm_best = pickle.load(model_file)\n",
    "\n",
    "historyy_pred_prob = loaded_svm_best.predict(X_train)\n",
    "y_pred_audio = np.round(historyy_pred_prob).astype(int)\n",
    "\n",
    "print('\\n Train set metrics')\n",
    "display_metrics(y_pred_audio, y_train)\n",
    "\n",
    "# Predict on the test set using the best model\n",
    "y_pred_audio = loaded_svm_best.predict(X_test)\n",
    "\n",
    "# Calculate metrics\n",
    "print('\\n Test set metrics')\n",
    "display_metrics(y_pred_audio, y_test)\n",
    "\n",
    "historyy_pred_prob = loaded_svm_best.predict(audio_scaled)\n",
    "y_pred_audio = np.round(historyy_pred_prob).astype(int)"
   ]
  },
  {
   "cell_type": "markdown",
   "id": "2a14aaca",
   "metadata": {},
   "source": [
    "#### Observation: No overfit is seen"
   ]
  },
  {
   "cell_type": "markdown",
   "id": "dc321694",
   "metadata": {},
   "source": [
    "# Early Fusion Model"
   ]
  },
  {
   "cell_type": "code",
   "execution_count": 16,
   "id": "bb73dd25",
   "metadata": {},
   "outputs": [
    {
     "name": "stdout",
     "output_type": "stream",
     "text": [
      "\n",
      "Train set Metrics:\n",
      "Accuracy: 0.890625\n",
      "Precision: 0.896551724137931\n",
      "Recall: 0.9017341040462428\n",
      "F1 Score: 0.899135446685879\n",
      "\n",
      "Test set Metrics:\n",
      "Accuracy: 0.8458445040214477\n",
      "Precision: 0.8622448979591837\n",
      "Recall: 0.8471177944862155\n",
      "F1 Score: 0.8546144121365359\n"
     ]
    }
   ],
   "source": [
    "# If your labels are boolean values, convert them into binary format\n",
    "label = labels['Sarcasm'].astype(int)\n",
    "\n",
    "# Split data into train and test\n",
    "X_train, X_test, y_train, y_test = train_test_split(merged_df, label, test_size=0.3, random_state=42)\n",
    "\n",
    "# Load the model back into memory\n",
    "with open('independant_fusion_model.pkl', 'rb') as model_file:\n",
    "    loaded_xgb_best = pickle.load(model_file)\n",
    "\n",
    "# Predict on the test set using the best model\n",
    "y_pred_fusion = loaded_xgb_best.predict(X_test)\n",
    "\n",
    "# Display metrics for XGBoost\n",
    "print(\"\\nTrain set Metrics:\")\n",
    "display_metrics(y_test, y_pred_fusion)\n",
    "\n",
    "# Predict on the test set using the best model\n",
    "y_pred_fusion = loaded_xgb_best.predict(X_train)\n",
    "\n",
    "# Display metrics for XGBoost\n",
    "print(\"\\nTest set Metrics:\")\n",
    "display_metrics(y_train, y_pred_fusion)\n",
    "\n",
    "# Predict on the test set using the best model\n",
    "y_pred_fusion = loaded_xgb_best.predict(merged_df)\n",
    "y_pred_audio = np.round(historyy_pred_prob).astype(int)"
   ]
  },
  {
   "cell_type": "markdown",
   "id": "11e6e7e6",
   "metadata": {},
   "source": [
    "#### Observation: No overfit is seen"
   ]
  },
  {
   "cell_type": "markdown",
   "id": "58f999b9",
   "metadata": {},
   "source": [
    "### Getting prediction probabilities from Early fusion model "
   ]
  },
  {
   "cell_type": "code",
   "execution_count": 7,
   "id": "fe6d1ac5",
   "metadata": {},
   "outputs": [],
   "source": [
    "# Probabilities for test set\n",
    "historyy_pred_prob_test = loaded_xgb_best.predict_proba(X_test)\n",
    "\n",
    "# Since it's binary classification, the probability for the positive class is in the second column\n",
    "xg_test_probabilities_pos_class = historyy_pred_prob_test[:, 1]\n",
    "\n",
    "# Probabilities for train set\n",
    "historyy_pred_prob_train = loaded_xgb_best.predict_proba(X_train)\n",
    "xg_train_probabilities_pos_class = historyy_pred_prob_train[:, 1]"
   ]
  },
  {
   "cell_type": "markdown",
   "id": "82759b04",
   "metadata": {},
   "source": [
    "# Ensemble"
   ]
  },
  {
   "cell_type": "code",
   "execution_count": 8,
   "id": "60ed95ca",
   "metadata": {},
   "outputs": [],
   "source": [
    "import numpy as np\n",
    "from sklearn.model_selection import train_test_split\n",
    "\n",
    "# Stacking predictions horizontally\n",
    "ensemble_data = np.column_stack((y_pred_text, y_pred_image, y_pred_audio))\n",
    "X_train, X_test, y_train, y_test = train_test_split(ensemble_data, label, test_size=0.3, random_state=42)"
   ]
  },
  {
   "cell_type": "markdown",
   "id": "5e36a321",
   "metadata": {},
   "source": [
    "## Majority Voting"
   ]
  },
  {
   "cell_type": "code",
   "execution_count": 9,
   "id": "39cbd228",
   "metadata": {},
   "outputs": [
    {
     "name": "stdout",
     "output_type": "stream",
     "text": [
      "\n",
      "Majority Voting Train Metrics:\n",
      "Accuracy: 0.6823056300268097\n",
      "Precision: 0.6816143497757847\n",
      "Recall: 0.7619047619047619\n",
      "F1 Score: 0.7195266272189348\n",
      "\n",
      "Majority Voting Test Metrics:\n",
      "Accuracy: 0.6625\n",
      "Precision: 0.6616915422885572\n",
      "Recall: 0.7687861271676301\n",
      "F1 Score: 0.7112299465240642\n"
     ]
    }
   ],
   "source": [
    "import numpy as np\n",
    "from scipy import stats\n",
    "\n",
    "# 1. Majority Voting\n",
    "majority_votes = stats.mode(X_train, axis=1).mode.squeeze()\n",
    "print(\"\\nMajority Voting Train Metrics:\")\n",
    "display_metrics(y_train, majority_votes)\n",
    "\n",
    "# 1. Majority Voting\n",
    "majority_votes = stats.mode(X_test, axis=1).mode.squeeze()\n",
    "print(\"\\nMajority Voting Test Metrics:\")\n",
    "display_metrics(y_test, majority_votes)"
   ]
  },
  {
   "cell_type": "markdown",
   "id": "63eb4345",
   "metadata": {},
   "source": [
    "#### Observation: Performance is better than audio and image model but less compared to text model"
   ]
  },
  {
   "cell_type": "markdown",
   "id": "2c77584b",
   "metadata": {},
   "source": [
    "## Weighted Voting"
   ]
  },
  {
   "cell_type": "code",
   "execution_count": 10,
   "id": "31dec1ee",
   "metadata": {},
   "outputs": [
    {
     "name": "stdout",
     "output_type": "stream",
     "text": [
      "\n",
      "Weighted Voting Train Metrics:\n",
      "Accuracy: 0.6823056300268097\n",
      "Precision: 0.6816143497757847\n",
      "Recall: 0.7619047619047619\n",
      "F1 Score: 0.7195266272189348\n",
      "\n",
      "Weighted Voting Test Metrics:\n",
      "Accuracy: 0.6625\n",
      "Precision: 0.6616915422885572\n",
      "Recall: 0.7687861271676301\n",
      "F1 Score: 0.7112299465240642\n"
     ]
    }
   ],
   "source": [
    "import numpy as np\n",
    "from scipy import stats\n",
    "from sklearn.linear_model import LogisticRegression\n",
    "\n",
    "accuracies = np.array([0.79, 0.56, 0.69])  # taken from accuracies of individual models\n",
    "weights = accuracies / accuracies.sum()\n",
    "\n",
    "# Weighted Voting\n",
    "weighted_votes = np.dot(X_train, weights)\n",
    "\n",
    "# Convert the weighted sums to binary values\n",
    "weighted_predictions = (weighted_votes > 0.5).astype(int)\n",
    "print(\"\\nWeighted Voting Train Metrics:\")\n",
    "display_metrics(y_train, weighted_predictions)\n",
    "\n",
    "weighted_votes = np.dot(X_test, weights)\n",
    "weighted_predictions = (weighted_votes > 0.5).astype(int)\n",
    "print(\"\\nWeighted Voting Test Metrics:\")\n",
    "display_metrics(y_test, weighted_predictions)"
   ]
  },
  {
   "cell_type": "markdown",
   "id": "f9561a39",
   "metadata": {},
   "source": [
    "#### observation: good fit is seen, lets try to tune the threshold"
   ]
  },
  {
   "cell_type": "code",
   "execution_count": 11,
   "id": "6be5330f",
   "metadata": {},
   "outputs": [
    {
     "data": {
      "image/png": "[encoded data removed]",
      "text/plain": [
       "<Figure size 1000x600 with 1 Axes>"
      ]
     },
     "metadata": {},
     "output_type": "display_data"
    },
    {
     "name": "stdout",
     "output_type": "stream",
     "text": [
      "\n",
      "Metrics for Train Set at Best Threshold:\n",
      "Accuracy: 0.6903485254691689\n",
      "Precision: 0.78\n",
      "Recall: 0.5864661654135338\n",
      "F1 Score: 0.669527896995708\n",
      "\n",
      "Metrics for Test Set at Best Threshold:\n",
      "Accuracy: 0.715625\n",
      "Precision: 0.8106060606060606\n",
      "Recall: 0.6184971098265896\n",
      "F1 Score: 0.7016393442622949\n"
     ]
    }
   ],
   "source": [
    "import matplotlib.pyplot as plt\n",
    "from sklearn.metrics import accuracy_score\n",
    "\n",
    "# Function to compute weighted predictions based on a threshold\n",
    "def get_weighted_predictions(data, weights, threshold):\n",
    "    weighted_votes = np.dot(data, weights)\n",
    "    return (weighted_votes > threshold).astype(int)\n",
    "\n",
    "# List of threshold values to explore\n",
    "thresholds = np.linspace(0, 1, 100)\n",
    "\n",
    "train_accuracies = []\n",
    "test_accuracies = []\n",
    "\n",
    "# Compute accuracies over different thresholds\n",
    "for threshold in thresholds:\n",
    "    train_pred = get_weighted_predictions(X_train, weights, threshold)\n",
    "    test_pred = get_weighted_predictions(X_test, weights, threshold)\n",
    "    \n",
    "    train_accuracies.append(accuracy_score(y_train, train_pred))\n",
    "    test_accuracies.append(accuracy_score(y_test, test_pred))\n",
    "\n",
    "# Find the threshold with the highest accuracy on the test set\n",
    "max_acc_index = np.argmax(test_accuracies)\n",
    "best_threshold = thresholds[max_acc_index]\n",
    "\n",
    "# Plotting\n",
    "plt.figure(figsize=(10, 6))\n",
    "plt.plot(thresholds, train_accuracies, label='Train Accuracy', color='blue')\n",
    "plt.plot(thresholds, test_accuracies, label='Test Accuracy', color='green')\n",
    "plt.axvline(x=best_threshold, color='red', linestyle='--')\n",
    "plt.scatter(best_threshold, test_accuracies[max_acc_index], color='red', zorder=5)\n",
    "plt.text(best_threshold+0.03, test_accuracies[max_acc_index]-0.02, f\"Threshold: {best_threshold:.2f}\", color='red')\n",
    "\n",
    "plt.title('Accuracy vs. Weighted Voting Threshold')\n",
    "plt.xlabel('Threshold')\n",
    "plt.ylabel('Accuracy')\n",
    "plt.legend()\n",
    "plt.grid(True)\n",
    "plt.show()\n",
    "\n",
    "# Display metrics for the best threshold\n",
    "print(\"\\nMetrics for Train Set at Best Threshold:\")\n",
    "train_pred_best_threshold = get_weighted_predictions(X_train, weights, best_threshold)\n",
    "display_metrics(y_train, train_pred_best_threshold)\n",
    "\n",
    "print(\"\\nMetrics for Test Set at Best Threshold:\")\n",
    "test_pred_best_threshold = get_weighted_predictions(X_test, weights, best_threshold)\n",
    "display_metrics(y_test, test_pred_best_threshold)\n"
   ]
  },
  {
   "cell_type": "markdown",
   "id": "8f7683e0",
   "metadata": {},
   "source": [
    "#### Observation: Performance is better than audio and image model but less compared to text model"
   ]
  },
  {
   "cell_type": "markdown",
   "id": "476e5014",
   "metadata": {},
   "source": [
    "## Stacking"
   ]
  },
  {
   "cell_type": "code",
   "execution_count": 12,
   "id": "25ffd667",
   "metadata": {},
   "outputs": [
    {
     "name": "stdout",
     "output_type": "stream",
     "text": [
      "\n",
      "Stacking Train Metrics:\n",
      "Accuracy: 0.7158176943699732\n",
      "Precision: 0.7037037037037037\n",
      "Recall: 0.8095238095238095\n",
      "F1 Score: 0.752913752913753\n",
      "\n",
      "Stacking Test Metrics:\n",
      "Accuracy: 0.715625\n",
      "Precision: 0.6990291262135923\n",
      "Recall: 0.8323699421965318\n",
      "F1 Score: 0.7598944591029023\n"
     ]
    }
   ],
   "source": [
    "import numpy as np\n",
    "from scipy import stats\n",
    "from sklearn.linear_model import LogisticRegression\n",
    "\n",
    "stacker = LogisticRegression()\n",
    "stacker.fit(X_train, y_train)\n",
    "\n",
    "stacked_predictions = stacker.predict(X_train)\n",
    "print(\"\\nStacking Train Metrics:\")\n",
    "display_metrics(y_train, stacked_predictions)\n",
    "\n",
    "stacked_predictions = stacker.predict(X_test)\n",
    "print(\"\\nStacking Test Metrics:\")\n",
    "display_metrics(y_test, stacked_predictions)"
   ]
  },
  {
   "cell_type": "markdown",
   "id": "74ee82eb",
   "metadata": {},
   "source": [
    "#### Observation: Performance is similar to text model and slightly better. "
   ]
  },
  {
   "cell_type": "markdown",
   "id": "4ffd1099",
   "metadata": {},
   "source": [
    "### Getting prediction probabilities for the stacker ensemble model"
   ]
  },
  {
   "cell_type": "code",
   "execution_count": 13,
   "id": "ff77c622",
   "metadata": {},
   "outputs": [],
   "source": [
    "# Getting the probabilities for the train set\n",
    "stacked_train_probabilities = stacker.predict_proba(X_train)\n",
    "\n",
    "# Since it's binary classification, the probability for the positive class is in the second column\n",
    "stacked_train_probabilities_pos_class = stacked_train_probabilities[:, 1]\n",
    "\n",
    "# Getting the probabilities for the test set\n",
    "stacked_test_probabilities = stacker.predict_proba(X_test)\n",
    "stacked_test_probabilities_pos_class = stacked_test_probabilities[:, 1]"
   ]
  },
  {
   "cell_type": "markdown",
   "id": "d2da4de9",
   "metadata": {},
   "source": [
    "# Late Fusion model and Early Fusion model Ensemble\n",
    "\n",
    "Same as dependant ensemble. Probabilities from late and early fusion are averaged. Threshold is then tuned to get the highest performance"
   ]
  },
  {
   "cell_type": "code",
   "execution_count": 14,
   "id": "eb271f41",
   "metadata": {},
   "outputs": [
    {
     "data": {
      "image/png": "[encoded data removed]",
      "text/plain": [
       "<Figure size 1000x600 with 1 Axes>"
      ]
     },
     "metadata": {},
     "output_type": "display_data"
    }
   ],
   "source": [
    "import numpy as np\n",
    "import matplotlib.pyplot as plt\n",
    "\n",
    "# Calculate average predictions\n",
    "avg_probs_train =(xg_train_probabilities_pos_class + stacked_train_probabilities_pos_class) / 2\n",
    "avg_probs_test = (xg_test_probabilities_pos_class + stacked_test_probabilities_pos_class) / 2\n",
    "\n",
    "thresholds = np.linspace(0, 1, 100)\n",
    "train_accuracies = []\n",
    "test_accuracies = []\n",
    "\n",
    "# Iterate over each threshold\n",
    "for threshold in thresholds:\n",
    "    avg_preds_train = (avg_probs_train > threshold).astype(int)\n",
    "    avg_preds_test = (avg_probs_test > threshold).astype(int)\n",
    "    \n",
    "    train_accuracy = np.mean(avg_preds_train == y_train)\n",
    "    test_accuracy = np.mean(avg_preds_test == y_test)\n",
    "    \n",
    "    train_accuracies.append(train_accuracy)\n",
    "    test_accuracies.append(test_accuracy)\n",
    "\n",
    "# Identify the threshold with the highest test accuracy\n",
    "max_acc_index = np.argmax(test_accuracies)\n",
    "max_acc_threshold = thresholds[max_acc_index]\n",
    "\n",
    "# Plotting\n",
    "plt.figure(figsize=(10, 6))\n",
    "plt.plot(thresholds, train_accuracies, label='Train Accuracy', color='blue')\n",
    "plt.plot(thresholds, test_accuracies, label='Test Accuracy', color='red')\n",
    "plt.axvline(x=max_acc_threshold, color='green', linestyle='--', label=f'Best Threshold: {max_acc_threshold:.2f}')\n",
    "plt.xlabel('Threshold')\n",
    "plt.ylabel('Accuracy')\n",
    "plt.legend()\n",
    "plt.title('Accuracy vs. Threshold')\n",
    "plt.grid(True)\n",
    "plt.tight_layout()\n",
    "plt.show()\n"
   ]
  },
  {
   "cell_type": "code",
   "execution_count": 15,
   "id": "542637fa",
   "metadata": {},
   "outputs": [
    {
     "name": "stdout",
     "output_type": "stream",
     "text": [
      "Train Metrics at Threshold 0.59:\n",
      "Accuracy: 0.8136729222520107\n",
      "Precision: 0.7919799498746867\n",
      "Recall: 0.8494623655913979\n",
      "F1 Score: 0.8197146562905318\n",
      "\n",
      "Test Metrics at Threshold 0.59:\n",
      "Accuracy: 0.8625\n",
      "Precision: 0.8439306358381503\n",
      "Recall: 0.8957055214723927\n",
      "F1 Score: 0.8690476190476191\n"
     ]
    }
   ],
   "source": [
    "threshold = 0.55\n",
    "\n",
    "# Convert averaged probabilities to binary predictions using the threshold\n",
    "avg_preds_train = (avg_probs_train > threshold).astype(int)\n",
    "avg_preds_test = (avg_probs_test > threshold).astype(int)\n",
    "\n",
    "# Display metrics for train set\n",
    "print('Train Metrics at Threshold 0.55:')\n",
    "display_metrics(avg_preds_train, y_train)\n",
    "\n",
    "# Display metrics for test set\n",
    "print('\\nTest Metrics at Threshold 0.55:')\n",
    "display_metrics(avg_preds_test, y_test)\n"
   ]
  },
  {
   "cell_type": "markdown",
   "id": "9cfb77fd",
   "metadata": {},
   "source": [
    "#### Observation: The final ensemble model produces the best performance\n",
    "The greater performance of test metrics than train metrics is most likely due to very low size of test set because of limited data available to train. Each correct or incorrect classification affects test results by 1%  which might contribute to test set having higher performance"
   ]
  }
 ],
 "metadata": {
  "kernelspec": {
   "display_name": "Python 3 (ipykernel)",
   "language": "python",
   "name": "python3"
  },
  "language_info": {
   "codemirror_mode": {
    "name": "ipython",
    "version": 3
   },
   "file_extension": ".py",
   "mimetype": "text/x-python",
   "name": "python",
   "nbconvert_exporter": "python",
   "pygments_lexer": "ipython3",
   "version": "3.11.4"
  }
 },
 "nbformat": 4,
 "nbformat_minor": 5
}
