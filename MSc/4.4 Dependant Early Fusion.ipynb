{
 "cells": [
  {
   "cell_type": "markdown",
   "id": "32b4bdf5",
   "metadata": {},
   "source": [
    "# Loading and cleaning data"
   ]
  },
  {
   "cell_type": "code",
   "execution_count": 1,
   "id": "e16a10ae",
   "metadata": {},
   "outputs": [
    {
     "name": "stderr",
     "output_type": "stream",
     "text": [
      "C:\\Users\\vijet\\AppData\\Local\\Temp\\ipykernel_18760\\2266103486.py:10: FutureWarning: In a future version of pandas all arguments of StringMethods.rsplit except for the argument 'pat' will be keyword-only.\n",
      "  filtered_audio['SCENE'] = filtered_audio['file_name'].str.rsplit('_', 1).str[0]\n",
      "C:\\Users\\vijet\\AppData\\Local\\Temp\\ipykernel_18760\\2266103486.py:10: SettingWithCopyWarning: \n",
      "A value is trying to be set on a copy of a slice from a DataFrame.\n",
      "Try using .loc[row_indexer,col_indexer] = value instead\n",
      "\n",
      "See the caveats in the documentation: https://pandas.pydata.org/pandas-docs/stable/user_guide/indexing.html#returning-a-view-versus-a-copy\n",
      "  filtered_audio['SCENE'] = filtered_audio['file_name'].str.rsplit('_', 1).str[0]\n",
      "C:\\Users\\vijet\\AppData\\Local\\Temp\\ipykernel_18760\\2266103486.py:11: SettingWithCopyWarning: \n",
      "A value is trying to be set on a copy of a slice from a DataFrame\n",
      "\n",
      "See the caveats in the documentation: https://pandas.pydata.org/pandas-docs/stable/user_guide/indexing.html#returning-a-view-versus-a-copy\n",
      "  filtered_audio.drop('file_name', inplace=True, axis=1)\n",
      "C:\\Users\\vijet\\AppData\\Local\\Temp\\ipykernel_18760\\2266103486.py:13: FutureWarning: In a future version of pandas all arguments of StringMethods.rsplit except for the argument 'pat' will be keyword-only.\n",
      "  image['SCENE'] = image['ImageName'].str.rsplit('_', 1).str[0]\n"
     ]
    }
   ],
   "source": [
    "import pandas as pd\n",
    "\n",
    "text = pd.read_csv('text_final.csv')\n",
    "audio = pd.read_csv('df_new.csv')\n",
    "image = pd.read_csv('mustard++/Facial-Expression-Recognition.Pytorch-master/dependant_image_embeddings.csv')\n",
    "labels = pd.read_csv('labels_final.csv')\n",
    "\n",
    "# Filter rows where 'file_name' contains '.wav' once\n",
    "filtered_audio = audio[audio['file_name'].str.count('.wav') == 1]\n",
    "filtered_audio['SCENE'] = filtered_audio['file_name'].str.rsplit('_', 1).str[0]\n",
    "filtered_audio.drop('file_name', inplace=True, axis=1)\n",
    "\n",
    "image['SCENE'] = image['ImageName'].str.rsplit('_', 1).str[0]\n",
    "image.drop('ImageName', inplace=True, axis=1)\n",
    "\n",
    "merged_df = filtered_audio.merge(text, on='SCENE', how='inner')\n",
    "merged_df = merged_df.merge(image, on='SCENE', how='inner')\n",
    "\n",
    "multimodal_df = merged_df.dropna()\n",
    "\n",
    "merged_df = pd.merge(multimodal_df, labels, on='SCENE', how='left')\n",
    "merged_df.drop(columns=['SCENE'], inplace=True)\n",
    "\n",
    "X = merged_df.drop(columns=['Sarcasm_y'])\n",
    "y = merged_df['Sarcasm_y']\n",
    "\n",
    "from sklearn.model_selection import train_test_split\n",
    "X_train, X_test, y_train, y_test = train_test_split(X, y, test_size=0.1, random_state=42)"
   ]
  },
  {
   "cell_type": "markdown",
   "id": "0b50c7ed",
   "metadata": {},
   "source": [
    "# Neural network"
   ]
  },
  {
   "cell_type": "code",
   "execution_count": 9,
   "id": "be5b0cf9",
   "metadata": {
    "scrolled": true
   },
   "outputs": [
    {
     "name": "stdout",
     "output_type": "stream",
     "text": [
      "Epoch 1/300\n",
      "25/25 [==============================] - 1s 8ms/step - loss: 12.1977 - accuracy: 0.5013 - val_loss: 3.1823 - val_accuracy: 0.4249 - lr: 0.0010\n",
      "Epoch 2/300\n",
      "25/25 [==============================] - 0s 5ms/step - loss: 6.1640 - accuracy: 0.4883 - val_loss: 0.8444 - val_accuracy: 0.5855 - lr: 0.0010\n",
      "Epoch 3/300\n",
      "25/25 [==============================] - 0s 5ms/step - loss: 3.4320 - accuracy: 0.5091 - val_loss: 0.8326 - val_accuracy: 0.4456 - lr: 0.0010\n",
      "Epoch 4/300\n",
      "25/25 [==============================] - 0s 5ms/step - loss: 2.1075 - accuracy: 0.5351 - val_loss: 0.8064 - val_accuracy: 0.3782 - lr: 0.0010\n",
      "Epoch 5/300\n",
      "25/25 [==============================] - 0s 5ms/step - loss: 1.2955 - accuracy: 0.5104 - val_loss: 0.7313 - val_accuracy: 0.4819 - lr: 0.0010\n",
      "Epoch 6/300\n",
      "25/25 [==============================] - 0s 5ms/step - loss: 0.9767 - accuracy: 0.5286 - val_loss: 0.6872 - val_accuracy: 0.5648 - lr: 0.0010\n",
      "Epoch 7/300\n",
      "25/25 [==============================] - 0s 5ms/step - loss: 0.8087 - accuracy: 0.5273 - val_loss: 0.6925 - val_accuracy: 0.5492 - lr: 0.0010\n",
      "Epoch 8/300\n",
      "25/25 [==============================] - 0s 5ms/step - loss: 0.7709 - accuracy: 0.5234 - val_loss: 0.7158 - val_accuracy: 0.4093 - lr: 0.0010\n",
      "Epoch 9/300\n",
      "25/25 [==============================] - 0s 5ms/step - loss: 0.7039 - accuracy: 0.5390 - val_loss: 0.7055 - val_accuracy: 0.5130 - lr: 0.0010\n",
      "Epoch 10/300\n",
      "25/25 [==============================] - 0s 4ms/step - loss: 0.6900 - accuracy: 0.5416 - val_loss: 0.6934 - val_accuracy: 0.5078 - lr: 0.0010\n",
      "Epoch 11/300\n",
      "25/25 [==============================] - 0s 5ms/step - loss: 0.7010 - accuracy: 0.5468 - val_loss: 0.6896 - val_accuracy: 0.5492 - lr: 0.0010\n",
      "Epoch 12/300\n",
      "25/25 [==============================] - 0s 5ms/step - loss: 0.6997 - accuracy: 0.5286 - val_loss: 0.6882 - val_accuracy: 0.5699 - lr: 0.0010\n",
      "Epoch 13/300\n",
      "25/25 [==============================] - 0s 4ms/step - loss: 0.6889 - accuracy: 0.5468 - val_loss: 0.6875 - val_accuracy: 0.5492 - lr: 0.0010\n",
      "Epoch 14/300\n",
      "25/25 [==============================] - 0s 4ms/step - loss: 0.6895 - accuracy: 0.5351 - val_loss: 0.6839 - val_accuracy: 0.5492 - lr: 0.0010\n",
      "Epoch 15/300\n",
      "25/25 [==============================] - 0s 5ms/step - loss: 0.6875 - accuracy: 0.5494 - val_loss: 0.6782 - val_accuracy: 0.5699 - lr: 0.0010\n",
      "Epoch 16/300\n",
      "25/25 [==============================] - 0s 4ms/step - loss: 0.6939 - accuracy: 0.5390 - val_loss: 0.6899 - val_accuracy: 0.5492 - lr: 0.0010\n",
      "Epoch 17/300\n",
      "25/25 [==============================] - 0s 4ms/step - loss: 0.6940 - accuracy: 0.5312 - val_loss: 0.6915 - val_accuracy: 0.5492 - lr: 0.0010\n",
      "Epoch 18/300\n",
      "25/25 [==============================] - 0s 4ms/step - loss: 0.6880 - accuracy: 0.5364 - val_loss: 0.6936 - val_accuracy: 0.5389 - lr: 0.0010\n",
      "Epoch 19/300\n",
      "25/25 [==============================] - 0s 4ms/step - loss: 0.6828 - accuracy: 0.5675 - val_loss: 0.7004 - val_accuracy: 0.5440 - lr: 0.0010\n",
      "Epoch 20/300\n",
      "25/25 [==============================] - 0s 4ms/step - loss: 0.6827 - accuracy: 0.5390 - val_loss: 0.6835 - val_accuracy: 0.5492 - lr: 0.0010\n",
      "Epoch 21/300\n",
      "25/25 [==============================] - 0s 4ms/step - loss: 0.6912 - accuracy: 0.5338 - val_loss: 0.6906 - val_accuracy: 0.5492 - lr: 0.0010\n",
      "Epoch 22/300\n",
      "25/25 [==============================] - 0s 4ms/step - loss: 0.6920 - accuracy: 0.5312 - val_loss: 0.6914 - val_accuracy: 0.5648 - lr: 0.0010\n",
      "Epoch 23/300\n",
      "25/25 [==============================] - 0s 4ms/step - loss: 0.6837 - accuracy: 0.5532 - val_loss: 0.6960 - val_accuracy: 0.5596 - lr: 0.0010\n",
      "Epoch 24/300\n",
      "25/25 [==============================] - 0s 4ms/step - loss: 0.6789 - accuracy: 0.5844 - val_loss: 0.6786 - val_accuracy: 0.5803 - lr: 0.0010\n",
      "Epoch 25/300\n",
      "16/25 [==================>...........] - ETA: 0s - loss: 0.6800 - accuracy: 0.5703\n",
      "Epoch 25: ReduceLROnPlateau reducing learning rate to 0.00010000000474974513.\n",
      "25/25 [==============================] - 0s 5ms/step - loss: 0.6795 - accuracy: 0.5844 - val_loss: 0.6905 - val_accuracy: 0.5803 - lr: 0.0010\n",
      "Epoch 26/300\n",
      "25/25 [==============================] - 0s 4ms/step - loss: 0.6804 - accuracy: 0.5714 - val_loss: 0.6890 - val_accuracy: 0.5907 - lr: 1.0000e-04\n",
      "Epoch 27/300\n",
      "25/25 [==============================] - 0s 5ms/step - loss: 0.6824 - accuracy: 0.5558 - val_loss: 0.6893 - val_accuracy: 0.5855 - lr: 1.0000e-04\n",
      "Epoch 28/300\n",
      "25/25 [==============================] - 0s 4ms/step - loss: 0.6831 - accuracy: 0.5649 - val_loss: 0.6888 - val_accuracy: 0.5803 - lr: 1.0000e-04\n",
      "Epoch 29/300\n",
      "25/25 [==============================] - 0s 4ms/step - loss: 0.6847 - accuracy: 0.5429 - val_loss: 0.6888 - val_accuracy: 0.5699 - lr: 1.0000e-04\n",
      "Epoch 30/300\n",
      "25/25 [==============================] - 0s 4ms/step - loss: 0.6783 - accuracy: 0.5688 - val_loss: 0.6890 - val_accuracy: 0.5803 - lr: 1.0000e-04\n",
      "Epoch 31/300\n",
      "25/25 [==============================] - 0s 4ms/step - loss: 0.6806 - accuracy: 0.5623 - val_loss: 0.6905 - val_accuracy: 0.5855 - lr: 1.0000e-04\n",
      "Epoch 32/300\n",
      "25/25 [==============================] - 0s 4ms/step - loss: 0.6791 - accuracy: 0.5701 - val_loss: 0.6909 - val_accuracy: 0.5855 - lr: 1.0000e-04\n",
      "Epoch 33/300\n",
      "25/25 [==============================] - 0s 4ms/step - loss: 0.6821 - accuracy: 0.5701 - val_loss: 0.6907 - val_accuracy: 0.5907 - lr: 1.0000e-04\n",
      "Epoch 34/300\n",
      "25/25 [==============================] - 0s 4ms/step - loss: 0.6782 - accuracy: 0.5857 - val_loss: 0.6919 - val_accuracy: 0.5803 - lr: 1.0000e-04\n",
      "Epoch 35/300\n",
      "16/25 [==================>...........] - ETA: 0s - loss: 0.6782 - accuracy: 0.5801\n",
      "Epoch 35: ReduceLROnPlateau reducing learning rate to 1.0000000474974514e-05.\n",
      "25/25 [==============================] - 0s 4ms/step - loss: 0.6845 - accuracy: 0.5688 - val_loss: 0.6918 - val_accuracy: 0.5855 - lr: 1.0000e-04\n",
      "4/4 [==============================] - 0s 1000us/step\n",
      "Accuracy: 0.5794392523364486\n",
      "Precision: 0.58\n",
      "Recall: 0.9508196721311475\n",
      "F1 Score: 0.7204968944099378\n"
     ]
    }
   ],
   "source": [
    "import tensorflow as tf\n",
    "from tensorflow.keras import layers, models, optimizers, regularizers, callbacks\n",
    "\n",
    "# Neural Network Model\n",
    "model = models.Sequential()\n",
    "\n",
    "# Input layer\n",
    "model.add(layers.Dense(256, activation='relu', input_shape=(1180,)))\n",
    "model.add(layers.Dropout(0.3))\n",
    "\n",
    "\n",
    "model.add(layers.Dense(128, activation='relu'))\n",
    "model.add(layers.Dropout(0.3))\n",
    "\n",
    "model.add(layers.Dense(64, activation='relu'))\n",
    "model.add(layers.Dropout(0.3))\n",
    "\n",
    "# Output layer\n",
    "model.add(layers.Dense(1, activation='sigmoid'))\n",
    "\n",
    "# Compile the model\n",
    "model.compile(optimizer=optimizers.Adam(learning_rate=0.001),\n",
    "              loss='binary_crossentropy',\n",
    "              metrics=['accuracy'])\n",
    "\n",
    "# Define callbacks\n",
    "early_stopping = callbacks.EarlyStopping(monitor='val_loss', patience=20, restore_best_weights=True)\n",
    "reduce_lr = callbacks.ReduceLROnPlateau(monitor='val_loss', factor=0.1, patience=10, verbose=1, min_lr=0.00001)\n",
    "\n",
    "# Train the model\n",
    "history = model.fit(X_train, y_train, \n",
    "                    epochs=300, \n",
    "                    batch_size=32, \n",
    "                    validation_split=0.2, \n",
    "                    callbacks=[early_stopping, reduce_lr])\n",
    "\n",
    "# Model evaluation\n",
    "import numpy as np\n",
    "from sklearn.metrics import accuracy_score, precision_score, recall_score, f1_score\n",
    "\n",
    "# Predict on the test set\n",
    "y_pred_prob = model.predict(X_test)\n",
    "y_pred = np.round(y_pred_prob).astype(int)\n",
    "\n",
    "# Calculate metrics\n",
    "accuracy = accuracy_score(y_test, y_pred)\n",
    "precision = precision_score(y_test, y_pred)\n",
    "recall = recall_score(y_test, y_pred)\n",
    "f1 = f1_score(y_test, y_pred)\n",
    "\n",
    "print(\"Accuracy:\", accuracy)\n",
    "print(\"Precision:\", precision)\n",
    "print(\"Recall:\", recall)\n",
    "print(\"F1 Score:\", f1)\n"
   ]
  },
  {
   "cell_type": "code",
   "execution_count": 10,
   "id": "93baea0b",
   "metadata": {},
   "outputs": [
    {
     "data": {
      "image/png": "[encoded data removed]",
      "text/plain": [
       "<Figure size 1200x500 with 1 Axes>"
      ]
     },
     "metadata": {},
     "output_type": "display_data"
    }
   ],
   "source": [
    "import matplotlib.pyplot as plt\n",
    "\n",
    "# Extract values from the history \n",
    "train_acc = history.history['accuracy']\n",
    "val_acc = history.history['val_accuracy']\n",
    "\n",
    "def moving_average(data, window_size=3):\n",
    "    \"\"\"Computes the moving average of a list.\"\"\"\n",
    "    return [np.mean(data[max(0, i - window_size):i+1]) for i in range(len(data))]\n",
    "\n",
    "window_size = 3 # You can adjust this for more or less smoothing\n",
    "smooth_train_acc = moving_average(train_acc, window_size)\n",
    "smooth_val_acc = moving_average(val_acc, window_size)\n",
    "best_epoch = np.argmax(val_acc)  # Epoch where the validation loss is minimum\n",
    "\n",
    "plt.figure(figsize=(12, 5))\n",
    "\n",
    "plt.subplot(1, 1, 1)\n",
    "plt.plot(smooth_train_acc, label='Smoothed Train Accuracy')\n",
    "plt.plot(smooth_val_acc, label='Smoothed Validation Accuracy')\n",
    "plt.axvline(best_epoch, color='red', linestyle='--', label='Best Model')\n",
    "plt.legend()\n",
    "plt.title('Accuracy')\n",
    "\n",
    "plt.tight_layout()\n",
    "plt.show()"
   ]
  },
  {
   "cell_type": "markdown",
   "id": "75c2e3c7",
   "metadata": {},
   "source": [
    "#### Observation: Poor performance \n",
    "\n",
    "Performance can be increased by increasing dense neurons but with very high overfit. This can be solved by using a dataset with greater number of instances."
   ]
  },
  {
   "cell_type": "markdown",
   "id": "4bfc9d27",
   "metadata": {},
   "source": [
    "# Random Forest"
   ]
  },
  {
   "cell_type": "code",
   "execution_count": 4,
   "id": "2e284db3",
   "metadata": {},
   "outputs": [],
   "source": [
    "def display_metrics(y_tes,y_pre):\n",
    "    # Calculate metrics\n",
    "    accuracy = accuracy_score(y_tes, y_pre)\n",
    "    precision = precision_score(y_tes, y_pre)\n",
    "    recall = recall_score(y_tes, y_pre)\n",
    "    f1 = f1_score(y_tes, y_pre)\n",
    "\n",
    "    print(\"Accuracy:\", accuracy)\n",
    "    print(\"Precision:\", precision)\n",
    "    print(\"Recall:\", recall)\n",
    "    print(\"F1 Score:\", f1)"
   ]
  },
  {
   "cell_type": "code",
   "execution_count": 10,
   "id": "a4be7734",
   "metadata": {},
   "outputs": [
    {
     "name": "stdout",
     "output_type": "stream",
     "text": [
      "Best Parameters for Random Forest: {'max_depth': 30, 'min_samples_leaf': 1, 'min_samples_split': 2, 'n_estimators': 50}\n",
      "RF Metrics:\n",
      "Accuracy: 0.7383177570093458\n",
      "Precision: 0.726027397260274\n",
      "Recall: 0.8688524590163934\n",
      "F1 Score: 0.7910447761194029\n"
     ]
    }
   ],
   "source": [
    "from sklearn.ensemble import RandomForestClassifier\n",
    "from sklearn.model_selection import GridSearchCV\n",
    "\n",
    "rf = RandomForestClassifier()\n",
    "param_grid = {\n",
    "    'n_estimators': [50, 100, 150],\n",
    "    'max_depth': [10, 20, 30],\n",
    "    'min_samples_split': [2, 5, 10],\n",
    "    'min_samples_leaf': [1, 2, 4]\n",
    "}\n",
    "\n",
    "\n",
    "grid_rf = GridSearchCV(estimator=rf, param_grid=param_grid, cv=5)\n",
    "grid_rf.fit(X_train, y_train)\n",
    "\n",
    "print(\"Best Parameters for Random Forest:\", grid_rf.best_params_)\n",
    "\n",
    "y_pred_rf = grid_rf.predict(X_test)\n",
    "\n",
    "# Display metrics for XGBoost\n",
    "print(\"RF Metrics:\")\n",
    "display_metrics(y_test, y_pred_rf)"
   ]
  },
  {
   "cell_type": "markdown",
   "id": "ec553ca5",
   "metadata": {},
   "source": [
    "#### Observation: Good performance\n",
    "Going through other models before finalizing"
   ]
  },
  {
   "cell_type": "markdown",
   "id": "4cd0b45f",
   "metadata": {},
   "source": [
    "# SVM"
   ]
  },
  {
   "cell_type": "code",
   "execution_count": 12,
   "id": "34ad6e2f",
   "metadata": {},
   "outputs": [
    {
     "name": "stdout",
     "output_type": "stream",
     "text": [
      "Best Parameters for SVM: {'C': 0.1, 'gamma': 1, 'kernel': 'poly'}\n",
      "SVM Metrics:\n",
      "Accuracy: 0.6915887850467289\n",
      "Precision: 0.7333333333333333\n",
      "Recall: 0.7213114754098361\n",
      "F1 Score: 0.7272727272727273\n"
     ]
    }
   ],
   "source": [
    "from sklearn.svm import SVC\n",
    "\n",
    "svm = SVC(probability=True)  # 'probability=True' to ensure you can retrieve probabilities\n",
    "param_grid_svm = {\n",
    "    'C': [0.1, 1, 10, 100], \n",
    "    'gamma': [1, 0.1, 0.01, 0.001],\n",
    "    'kernel': ['rbf', 'poly', 'sigmoid']\n",
    "}\n",
    "\n",
    "grid_svm = GridSearchCV(estimator=svm, param_grid=param_grid_svm, cv=5)\n",
    "grid_svm.fit(X_train, y_train)\n",
    "\n",
    "print(\"Best Parameters for SVM:\", grid_svm.best_params_)\n",
    "\n",
    "y_pred_svm = grid_svm.predict(X_test)\n",
    "\n",
    "# Display metrics for SVM\n",
    "print(\"SVM Metrics:\")\n",
    "display_metrics(y_test, y_pred_svm)\n"
   ]
  },
  {
   "cell_type": "markdown",
   "id": "2f72b172",
   "metadata": {},
   "source": [
    "#### Observation: Poor performance"
   ]
  },
  {
   "cell_type": "markdown",
   "id": "2c823b7e",
   "metadata": {},
   "source": [
    "# XGBoost"
   ]
  },
  {
   "cell_type": "code",
   "execution_count": 12,
   "id": "a03170b0",
   "metadata": {},
   "outputs": [
    {
     "name": "stdout",
     "output_type": "stream",
     "text": [
      "Best Parameters for XGBoost: {'colsample_bytree': 0.2, 'learning_rate': 0.1, 'max_depth': 2, 'n_estimators': 100, 'subsample': 0.9}\n",
      "XGBoost Metrics:\n",
      "Accuracy: 0.8785046728971962\n",
      "Precision: 0.8636363636363636\n",
      "Recall: 0.9344262295081968\n",
      "F1 Score: 0.8976377952755905\n"
     ]
    }
   ],
   "source": [
    "import xgboost as xgb\n",
    "from sklearn.model_selection import GridSearchCV\n",
    "from sklearn.metrics import accuracy_score, precision_score, recall_score, f1_score\n",
    "\n",
    "xg = xgb.XGBClassifier()\n",
    "param_grid_xg = {\n",
    "    'n_estimators': [20, 50, 100],\n",
    "    'learning_rate': [0.01, 0.05, 0.1],\n",
    "    'max_depth': [2,3],\n",
    "    'subsample': [0.8, 0.9],\n",
    "    'colsample_bytree': [0.2]\n",
    "}\n",
    "\n",
    "grid_xg = GridSearchCV(estimator=xg, param_grid=param_grid_xg, cv=5, n_jobs=-1)\n",
    "grid_xg.fit(X_train, y_train)\n",
    "\n",
    "print(\"Best Parameters for XGBoost:\", grid_xg.best_params_)\n",
    "\n",
    "y_pred_xg = grid_xg.predict(X_test)\n",
    "\n",
    "# Display metrics for XGBoost\n",
    "print(\"XGBoost Metrics:\")\n",
    "display_metrics(y_test, y_pred_xg)\n"
   ]
  },
  {
   "cell_type": "code",
   "execution_count": 13,
   "id": "6c448ee1",
   "metadata": {},
   "outputs": [
    {
     "name": "stdout",
     "output_type": "stream",
     "text": [
      "XGBoost Metrics:\n",
      "Accuracy: 0.9719626168224299\n",
      "Precision: 0.9602272727272727\n",
      "Recall: 0.9883040935672515\n",
      "F1 Score: 0.974063400576369\n"
     ]
    }
   ],
   "source": [
    "y_pred_xg = grid_xg.predict(X_train)\n",
    "\n",
    "# Display metrics for XGBoost\n",
    "print(\"XGBoost Metrics:\")\n",
    "display_metrics(y_train, y_pred_xg)"
   ]
  },
  {
   "cell_type": "markdown",
   "id": "eeaef9c4",
   "metadata": {},
   "source": [
    "#### Observation: Very high performance compared to any other models. However, high overfit exists. Let's manually tune to solve this issue"
   ]
  },
  {
   "cell_type": "markdown",
   "id": "4323d8fd",
   "metadata": {},
   "source": [
    "# Tuning XGBoost to prevent overfitting"
   ]
  },
  {
   "cell_type": "code",
   "execution_count": 52,
   "id": "f12120a5",
   "metadata": {},
   "outputs": [
    {
     "name": "stdout",
     "output_type": "stream",
     "text": [
      "Accuracy: 0.9065420560747663\n",
      "Precision: 0.8923076923076924\n",
      "Recall: 0.9508196721311475\n",
      "F1 Score: 0.9206349206349206\n"
     ]
    }
   ],
   "source": [
    "import xgboost as xgb\n",
    "\n",
    "best_params = {'colsample_bytree': 1, 'learning_rate': 0.05, 'max_depth': 2, 'n_estimators': 100, 'subsample': 0.8}\n",
    "\n",
    "xg = xgb.XGBClassifier(\n",
    "    colsample_bytree=best_params['colsample_bytree'],\n",
    "    learning_rate=best_params['learning_rate'],\n",
    "    max_depth=best_params['max_depth'],\n",
    "    n_estimators=best_params['n_estimators'],\n",
    "    subsample=best_params['subsample']\n",
    ")\n",
    " \n",
    "xg.fit(X_train, y_train)\n",
    "xg_pred = xg.predict(X_test)\n",
    "\n",
    "display_metrics(y_test, xg_pred)"
   ]
  },
  {
   "cell_type": "code",
   "execution_count": 53,
   "id": "352e6277",
   "metadata": {},
   "outputs": [
    {
     "name": "stdout",
     "output_type": "stream",
     "text": [
      "Accuracy: 0.9418483904465212\n",
      "Precision: 0.9239332096474954\n",
      "Recall: 0.9707602339181286\n",
      "F1 Score: 0.9467680608365019\n"
     ]
    }
   ],
   "source": [
    "import xgboost as xgb\n",
    "\n",
    "\n",
    "xg = xgb.XGBClassifier(\n",
    "    colsample_bytree=best_params['colsample_bytree'],\n",
    "    learning_rate=best_params['learning_rate'],\n",
    "    max_depth=best_params['max_depth'],\n",
    "    n_estimators=best_params['n_estimators'],\n",
    "    subsample=best_params['subsample']\n",
    ")\n",
    "\n",
    "xg.fit(X_train, y_train)\n",
    "xg_pred = xg.predict(X_train)\n",
    "\n",
    "display_metrics(y_train, xg_pred)"
   ]
  },
  {
   "cell_type": "markdown",
   "id": "0fa7cc66",
   "metadata": {},
   "source": [
    "#### Observation: Above model has very good performance and no overfit"
   ]
  },
  {
   "cell_type": "code",
   "execution_count": 54,
   "id": "a5b4ae21",
   "metadata": {},
   "outputs": [],
   "source": [
    "import pickle\n",
    "\n",
    "# Save the trained model to a file\n",
    "with open(\"dependant_xgboost_model.pkl\", \"wb\") as model_file:\n",
    "    pickle.dump(xg, model_file)"
   ]
  }
 ],
 "metadata": {
  "kernelspec": {
   "display_name": "Python 3 (ipykernel)",
   "language": "python",
   "name": "python3"
  },
  "language_info": {
   "codemirror_mode": {
    "name": "ipython",
    "version": 3
   },
   "file_extension": ".py",
   "mimetype": "text/x-python",
   "name": "python",
   "nbconvert_exporter": "python",
   "pygments_lexer": "ipython3",
   "version": "3.11.4"
  }
 },
 "nbformat": 4,
 "nbformat_minor": 5
}
