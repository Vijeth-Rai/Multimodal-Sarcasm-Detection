{
 "cells": [
  {
   "cell_type": "markdown",
   "id": "380a7bc1",
   "metadata": {},
   "source": [
    "# Loading and Cleaning data"
   ]
  },
  {
   "cell_type": "code",
   "execution_count": 1,
   "id": "8bccc422",
   "metadata": {},
   "outputs": [
    {
     "name": "stderr",
     "output_type": "stream",
     "text": [
      "C:\\Users\\vijet\\AppData\\Local\\Temp\\ipykernel_11720\\2754855723.py:10: FutureWarning: In a future version of pandas all arguments of StringMethods.rsplit except for the argument 'pat' will be keyword-only.\n",
      "  filtered_audio['SCENE'] = filtered_audio['file_name'].str.rsplit('_', 1).str[0]\n",
      "C:\\Users\\vijet\\AppData\\Local\\Temp\\ipykernel_11720\\2754855723.py:10: SettingWithCopyWarning: \n",
      "A value is trying to be set on a copy of a slice from a DataFrame.\n",
      "Try using .loc[row_indexer,col_indexer] = value instead\n",
      "\n",
      "See the caveats in the documentation: https://pandas.pydata.org/pandas-docs/stable/user_guide/indexing.html#returning-a-view-versus-a-copy\n",
      "  filtered_audio['SCENE'] = filtered_audio['file_name'].str.rsplit('_', 1).str[0]\n",
      "C:\\Users\\vijet\\AppData\\Local\\Temp\\ipykernel_11720\\2754855723.py:11: SettingWithCopyWarning: \n",
      "A value is trying to be set on a copy of a slice from a DataFrame\n",
      "\n",
      "See the caveats in the documentation: https://pandas.pydata.org/pandas-docs/stable/user_guide/indexing.html#returning-a-view-versus-a-copy\n",
      "  filtered_audio.drop('file_name', inplace=True, axis=1)\n",
      "C:\\Users\\vijet\\AppData\\Local\\Temp\\ipykernel_11720\\2754855723.py:14: FutureWarning: In a future version of pandas all arguments of StringMethods.rsplit except for the argument 'pat' will be keyword-only.\n",
      "  image['SCENE'] = image['ImageName'].str.rsplit('_', 1).str[0]\n"
     ]
    }
   ],
   "source": [
    "import pandas as pd\n",
    "\n",
    "text = pd.read_csv('text_final.csv')\n",
    "audio = pd.read_csv('df_new.csv')\n",
    "image = pd.read_csv('mustard++/Facial-Expression-Recognition.Pytorch-master/dependant_image_embeddings.csv')\n",
    "labels = pd.read_csv('labels_final.csv')\n",
    "\n",
    "# Filter rows where 'file_name' contains '.wav' once to filter augmented rows out\n",
    "filtered_audio = audio[audio['file_name'].str.count('.wav') == 1]\n",
    "filtered_audio['SCENE'] = filtered_audio['file_name'].str.rsplit('_', 1).str[0]\n",
    "filtered_audio.drop('file_name', inplace=True, axis=1)\n",
    "\n",
    "# formatting to SCENE column to match with labels dataframe\n",
    "image['SCENE'] = image['ImageName'].str.rsplit('_', 1).str[0]\n",
    "image.drop('ImageName', inplace=True, axis=1)\n",
    "\n",
    "# merging text and image dataframe\n",
    "merged_df = filtered_audio.merge(text, on='SCENE', how='inner')\n",
    "merged_df = merged_df.merge(image, on='SCENE', how='inner')\n",
    "multimodal_df = merged_df.dropna()\n",
    "\n",
    "# merging multimodal df with labels to make sure all the rows are relevant to label dataframe\n",
    "merged_df = pd.merge(multimodal_df, labels, on='SCENE', how='left')\n",
    "merged_df.drop(columns=['Sarcasm_y'], inplace=True)  # drop ground truths\n",
    "merged_df.dropna(inplace=True) # filter out any NaN row\n",
    "\n",
    "# Filter the rows in labels based on the SCENE column of merged_df to make sure non relevant rows are dropped\n",
    "labels = labels[labels['SCENE'].isin(merged_df['SCENE'])]\n",
    "merged_df.set_index('SCENE', inplace=True)\n",
    "text.set_index('SCENE', inplace=True)\n",
    "\n",
    "\n",
    "# Extract columns for the 'image' dataframe based on formatting\n",
    "image_cols = [col for col in merged_df.columns if col.startswith('embed_') or col == 'SCENE']\n",
    "image_df = merged_df[image_cols]\n",
    "image_df = pd.merge(image_df, text.iloc[:, -27:], on='SCENE', how='left')  # dependant speaker information\n",
    "\n",
    "# Extract columns for the 'text' dataframe based on formatting\n",
    "text_cols = [col for col in merged_df.columns if col.startswith('Embedding_') or col == 'SCENE']\n",
    "text_df = merged_df[text_cols]\n",
    "text_df = pd.merge(text_df, text.iloc[:, -27:], on='SCENE', how='left')  # dependant speaker information\n",
    "\n",
    "# Extract columns for the 'audio' dataframe based on formatting\n",
    "audio_cols = [col for col in merged_df.columns if col.startswith('embedding_') or col == 'SCENE']\n",
    "audio_df = merged_df[audio_cols]\n",
    "audio_df = pd.merge(audio_df, text.iloc[:, -27:], on='SCENE', how='left')  # dependant speaker information"
   ]
  },
  {
   "cell_type": "markdown",
   "id": "507cfd83",
   "metadata": {},
   "source": [
    "# Function to display metrics for all models"
   ]
  },
  {
   "cell_type": "code",
   "execution_count": 2,
   "id": "fd8c9d9c",
   "metadata": {},
   "outputs": [],
   "source": [
    "def display_metrics(y_tes,y_pre):\n",
    "    # Calculate metrics\n",
    "    accuracy = accuracy_score(y_tes, y_pre)\n",
    "    precision = precision_score(y_tes, y_pre)\n",
    "    recall = recall_score(y_tes, y_pre)\n",
    "    f1 = f1_score(y_tes, y_pre)\n",
    "\n",
    "    print(\"Accuracy:\", accuracy)\n",
    "    print(\"Precision:\", precision)\n",
    "    print(\"Recall:\", recall)\n",
    "    print(\"F1 Score:\", f1)"
   ]
  },
  {
   "cell_type": "markdown",
   "id": "b2343ffa",
   "metadata": {},
   "source": [
    "# Best Text Model"
   ]
  },
  {
   "cell_type": "code",
   "execution_count": 3,
   "id": "a3e728fa",
   "metadata": {},
   "outputs": [
    {
     "name": "stdout",
     "output_type": "stream",
     "text": [
      "31/31 [==============================] - 0s 717us/step\n",
      "\n",
      " Train set metrics\n",
      "Accuracy: 0.7954309449636553\n",
      "Precision: 0.8447937131630648\n",
      "Recall: 0.7846715328467153\n",
      "F1 Score: 0.8136234626300851\n",
      "4/4 [==============================] - 0s 1ms/step\n",
      "\n",
      " Test set metrics\n",
      "Accuracy: 0.8130841121495327\n",
      "Precision: 0.8615384615384616\n",
      "Recall: 0.835820895522388\n",
      "F1 Score: 0.8484848484848485\n",
      "34/34 [==============================] - 0s 697us/step\n"
     ]
    }
   ],
   "source": [
    "from tensorflow.keras.models import load_model\n",
    "from sklearn.preprocessing import StandardScaler\n",
    "from sklearn.model_selection import train_test_split\n",
    "import numpy as np\n",
    "from sklearn.metrics import accuracy_score, precision_score, recall_score, f1_score\n",
    "\n",
    "# Scale the input features\n",
    "scaler = StandardScaler()\n",
    "text_scaled = scaler.fit_transform(text_df)\n",
    "label = labels['Sarcasm'].astype(int)\n",
    "\n",
    "# Split data into train and test\n",
    "X_train, X_test, y_train, y_test = train_test_split(text_scaled, label, test_size=0.1, random_state=42)\n",
    "\n",
    "loaded_model = load_model(\"dependant_text_model.h5\")\n",
    "\n",
    "\n",
    "historyy_pred_prob = loaded_model.predict(X_train)\n",
    "y_pred_text = np.round(historyy_pred_prob).astype(int)\n",
    "\n",
    "print('\\n Train set metrics')\n",
    "display_metrics(y_pred_text, y_train)\n",
    "\n",
    "historyy_pred_prob = loaded_model.predict(X_test)\n",
    "y_pred_text = np.round(historyy_pred_prob).astype(int)\n",
    "\n",
    "# Calculate metrics\n",
    "print('\\n Test set metrics')\n",
    "display_metrics(y_pred_text, y_test)\n",
    "\n",
    "historyy_pred_prob = loaded_model.predict(text_scaled)\n",
    "y_pred_text = np.round(historyy_pred_prob).astype(int)"
   ]
  },
  {
   "cell_type": "markdown",
   "id": "d569b2bb",
   "metadata": {},
   "source": [
    "#### Observation: No overfit seen "
   ]
  },
  {
   "cell_type": "markdown",
   "id": "65a0198d",
   "metadata": {},
   "source": [
    "# Best Image Model"
   ]
  },
  {
   "cell_type": "code",
   "execution_count": 4,
   "id": "4ee13e9e",
   "metadata": {},
   "outputs": [
    {
     "name": "stdout",
     "output_type": "stream",
     "text": [
      "31/31 [==============================] - 0s 917us/step\n",
      "\n",
      " Train set metrics\n",
      "Accuracy: 0.5638629283489096\n",
      "Precision: 0.5638506876227898\n",
      "Recall: 0.5917525773195876\n",
      "F1 Score: 0.5774647887323943\n",
      "4/4 [==============================] - 0s 1ms/step\n",
      "\n",
      " Test set metrics\n",
      "Accuracy: 0.5887850467289719\n",
      "Precision: 0.6153846153846154\n",
      "Recall: 0.6779661016949152\n",
      "F1 Score: 0.6451612903225806\n",
      "34/34 [==============================] - 0s 773us/step\n"
     ]
    }
   ],
   "source": [
    "from tensorflow.keras.models import load_model\n",
    "from sklearn.preprocessing import StandardScaler\n",
    "from sklearn.model_selection import train_test_split\n",
    "import numpy as np\n",
    "from sklearn.metrics import accuracy_score, precision_score, recall_score, f1_score\n",
    "\n",
    "# Scale the input features\n",
    "scaler = StandardScaler()\n",
    "image_scaled = scaler.fit_transform(image_df)\n",
    "label = labels['Sarcasm'].astype(int)\n",
    "\n",
    "# Split data into train and test\n",
    "X_train, X_test, y_train, y_test = train_test_split(image_scaled, label, test_size=0.1, random_state=42)\n",
    "\n",
    "loaded_model = load_model(\"dependant_image_model.h5\")\n",
    "\n",
    "historyy_pred_prob = loaded_model.predict(X_train)\n",
    "y_pred_image = np.round(historyy_pred_prob).astype(int)\n",
    "\n",
    "print('\\n Train set metrics')\n",
    "display_metrics(y_pred_image, y_train)\n",
    "\n",
    "historyy_pred_prob = loaded_model.predict(X_test)\n",
    "y_pred_image = np.round(historyy_pred_prob).astype(int)\n",
    "\n",
    "# Calculate metrics\n",
    "print('\\n Test set metrics')\n",
    "display_metrics(y_pred_image, y_test)\n",
    "\n",
    "historyy_pred_prob = loaded_model.predict(image_scaled)\n",
    "y_pred_image = np.round(historyy_pred_prob).astype(int)"
   ]
  },
  {
   "cell_type": "markdown",
   "id": "cb85920f",
   "metadata": {},
   "source": [
    "#### Observation: No overfit seen "
   ]
  },
  {
   "cell_type": "markdown",
   "id": "59c26a1f",
   "metadata": {},
   "source": [
    "# Best Audio Model"
   ]
  },
  {
   "cell_type": "code",
   "execution_count": 5,
   "id": "8fd37e2b",
   "metadata": {},
   "outputs": [
    {
     "name": "stdout",
     "output_type": "stream",
     "text": [
      "31/31 [==============================] - 0s 550us/step\n",
      "\n",
      " Train set metrics\n",
      "Accuracy: 0.6957424714434061\n",
      "Precision: 0.7897838899803536\n",
      "Recall: 0.6836734693877551\n",
      "F1 Score: 0.7329079307201458\n",
      "4/4 [==============================] - 0s 999us/step\n",
      "\n",
      " Test set metrics\n",
      "Accuracy: 0.6915887850467289\n",
      "Precision: 0.7230769230769231\n",
      "Recall: 0.7580645161290323\n",
      "F1 Score: 0.7401574803149606\n",
      "34/34 [==============================] - 0s 606us/step\n"
     ]
    }
   ],
   "source": [
    "from tensorflow.keras.models import load_model\n",
    "from sklearn.preprocessing import StandardScaler\n",
    "from sklearn.model_selection import train_test_split\n",
    "import numpy as np\n",
    "from sklearn.metrics import accuracy_score, precision_score, recall_score, f1_score\n",
    "\n",
    "# Scale the input features\n",
    "scaler = StandardScaler()\n",
    "audio_scaled = scaler.fit_transform(audio_df)\n",
    "label = labels['Sarcasm'].astype(int)\n",
    "\n",
    "# Split data into train and test\n",
    "X_train, X_test, y_train, y_test = train_test_split(audio_scaled, label, test_size=0.1, random_state=42)\n",
    "\n",
    "loaded_model = load_model(\"dependant_audio_model.h5\")\n",
    "\n",
    "historyy_pred_prob = loaded_model.predict(X_train)\n",
    "y_pred_audio = np.round(historyy_pred_prob).astype(int)\n",
    "\n",
    "print('\\n Train set metrics')\n",
    "display_metrics(y_pred_audio, y_train)\n",
    "\n",
    "\n",
    "historyy_pred_prob = loaded_model.predict(X_test)\n",
    "y_pred_audio = np.round(historyy_pred_prob).astype(int)\n",
    "\n",
    "# Calculate metrics\n",
    "print('\\n Test set metrics')\n",
    "display_metrics(y_pred_audio, y_test)\n",
    "\n",
    "\n",
    "\n",
    "historyy_pred_prob = loaded_model.predict(audio_scaled)\n",
    "y_pred_audio = np.round(historyy_pred_prob).astype(int)"
   ]
  },
  {
   "cell_type": "markdown",
   "id": "e95a1b44",
   "metadata": {},
   "source": [
    "#### Observation: No overfit seen "
   ]
  },
  {
   "cell_type": "markdown",
   "id": "f7bad5cb",
   "metadata": {},
   "source": [
    "# Best Fusion Model"
   ]
  },
  {
   "cell_type": "code",
   "execution_count": 6,
   "id": "8075b655",
   "metadata": {},
   "outputs": [
    {
     "name": "stdout",
     "output_type": "stream",
     "text": [
      "\n",
      " Train set metrics\n",
      "Accuracy: 0.8940809968847352\n",
      "Precision: 0.9257142857142857\n",
      "Recall: 0.8852459016393442\n",
      "F1 Score: 0.9050279329608938\n",
      "\n",
      " Test set metrics\n",
      "Accuracy: 0.8664886515353805\n",
      "Precision: 0.9022556390977443\n",
      "Recall: 0.8551068883610451\n",
      "F1 Score: 0.8780487804878049\n"
     ]
    }
   ],
   "source": [
    "import pickle\n",
    "\n",
    "# Load the saved model from the file\n",
    "with open(\"dependant_xgboost_model.pkl\", \"rb\") as model_file:\n",
    "    loaded_xg = pickle.load(model_file)\n",
    "\n",
    "# Split data into train and test\n",
    "X_train, X_test, y_train, y_test = train_test_split(merged_df, label, test_size=0.3, random_state=42)\n",
    "\n",
    "historyy_pred_prob = loaded_xg.predict(X_test)\n",
    "y_pred_fusion = np.round(historyy_pred_prob).astype(int)\n",
    "\n",
    "# Calculate metrics\n",
    "print('\\n Train set metrics')\n",
    "display_metrics(y_pred_fusion, y_test)\n",
    "\n",
    "historyy_pred_prob = loaded_xg.predict(X_train)\n",
    "y_pred_fusion = np.round(historyy_pred_prob).astype(int)\n",
    "\n",
    "print('\\n Test set metrics')\n",
    "display_metrics(y_pred_fusion, y_train)\n",
    "\n",
    "historyy_pred_prob = loaded_xg.predict(merged_df)\n",
    "y_pred_fusion = np.round(historyy_pred_prob).astype(int)"
   ]
  },
  {
   "cell_type": "markdown",
   "id": "7aa89c98",
   "metadata": {},
   "source": [
    "#### Observation: No significant overfit "
   ]
  },
  {
   "cell_type": "markdown",
   "id": "549dc3ee",
   "metadata": {},
   "source": [
    "#### Getting predicted probabilities for late fusion model"
   ]
  },
  {
   "cell_type": "code",
   "execution_count": 7,
   "id": "14f40dfb",
   "metadata": {},
   "outputs": [],
   "source": [
    "# Probabilities for test set\n",
    "historyy_pred_prob_test = loaded_xg.predict_proba(X_test)\n",
    "\n",
    "# Since it's binary classification, the probability for the positive class is in the second column\n",
    "xg_test_probabilities_pos_class = historyy_pred_prob_test[:, 1]\n",
    "\n",
    "# Probabilities for train set\n",
    "historyy_pred_prob_train = loaded_xg.predict_proba(X_train)\n",
    "xg_train_probabilities_pos_class = historyy_pred_prob_train[:, 1]"
   ]
  },
  {
   "cell_type": "markdown",
   "id": "9a3ef22b",
   "metadata": {},
   "source": [
    "# Ensemble "
   ]
  },
  {
   "cell_type": "code",
   "execution_count": 8,
   "id": "88bd18fe",
   "metadata": {},
   "outputs": [],
   "source": [
    "import numpy as np\n",
    "from sklearn.model_selection import train_test_split\n",
    "\n",
    "# Stacking predictions horizontally\n",
    "ensemble_data = np.column_stack((y_pred_text, y_pred_image, y_pred_audio))\n",
    "X_train, X_test, y_train, y_test = train_test_split(ensemble_data, label, test_size=0.3, random_state=42)"
   ]
  },
  {
   "cell_type": "markdown",
   "id": "de4f0466",
   "metadata": {},
   "source": [
    "### Weighted Voting "
   ]
  },
  {
   "cell_type": "code",
   "execution_count": 9,
   "id": "83315bf1",
   "metadata": {},
   "outputs": [
    {
     "name": "stdout",
     "output_type": "stream",
     "text": [
      "\n",
      "Weighted Voting Train Metrics:\n",
      "Accuracy: 0.7596795727636849\n",
      "Precision: 0.7564402810304449\n",
      "Recall: 0.8095238095238095\n",
      "F1 Score: 0.7820823244552059\n",
      "\n",
      "Weighted Voting Test Metrics:\n",
      "Accuracy: 0.7445482866043613\n",
      "Precision: 0.7486631016042781\n",
      "Recall: 0.8\n",
      "F1 Score: 0.7734806629834254\n"
     ]
    }
   ],
   "source": [
    "import numpy as np\n",
    "from scipy import stats\n",
    "\n",
    "accuracies = np.array([0.79, 0.56, 0.69]) # based on accuracies of respective models\n",
    "weights = accuracies / accuracies.sum()\n",
    "\n",
    "# weighted voting\n",
    "weighted_votes = np.dot(X_train, weights)\n",
    "\n",
    "weighted_predictions = (weighted_votes > 0.5).astype(int)\n",
    "print(\"\\nWeighted Voting Train Metrics:\")\n",
    "display_metrics(y_train, weighted_predictions)\n",
    "\n",
    "weighted_votes = np.dot(X_test, weights)\n",
    "weighted_predictions = (weighted_votes > 0.5).astype(int)\n",
    "print(\"\\nWeighted Voting Test Metrics:\")\n",
    "display_metrics(y_test, weighted_predictions)"
   ]
  },
  {
   "cell_type": "markdown",
   "id": "2709e7b4",
   "metadata": {},
   "source": [
    "#### Observation: The model provides better results than individual models. "
   ]
  },
  {
   "cell_type": "markdown",
   "id": "9c20eb40",
   "metadata": {},
   "source": [
    "### Logistic Regression Stacker Model"
   ]
  },
  {
   "cell_type": "code",
   "execution_count": 10,
   "id": "6174cea9",
   "metadata": {},
   "outputs": [
    {
     "name": "stdout",
     "output_type": "stream",
     "text": [
      "\n",
      "Stacking Train Metrics:\n",
      "Accuracy: 0.7930574098798397\n",
      "Precision: 0.7877358490566038\n",
      "Recall: 0.8370927318295739\n",
      "F1 Score: 0.8116646415552855\n",
      "\n",
      "Stacking Test Metrics:\n",
      "Accuracy: 0.8068535825545171\n",
      "Precision: 0.7958115183246073\n",
      "Recall: 0.8685714285714285\n",
      "F1 Score: 0.8306010928961748\n"
     ]
    }
   ],
   "source": [
    "import numpy as np\n",
    "from scipy import stats\n",
    "from sklearn.linear_model import LogisticRegression\n",
    "\n",
    "# 3. Stacking\n",
    "stacker = LogisticRegression()\n",
    "stacker.fit(X_train, y_train)\n",
    "\n",
    "stacked_predictions = stacker.predict(X_train)\n",
    "print(\"\\nStacking Train Metrics:\")\n",
    "display_metrics(y_train, stacked_predictions)\n",
    "\n",
    "stacked_predictions = stacker.predict(X_test)\n",
    "print(\"\\nStacking Test Metrics:\")\n",
    "display_metrics(y_test, stacked_predictions)"
   ]
  },
  {
   "cell_type": "markdown",
   "id": "23c8d2c2",
   "metadata": {},
   "source": [
    "#### Observation: Stacker has the highest performance compared to other models. We will use this in the final ensemble layer."
   ]
  },
  {
   "cell_type": "markdown",
   "id": "c7f21f0f",
   "metadata": {},
   "source": [
    "### Predicting probabilities of best ensemle model (LR Stacker)"
   ]
  },
  {
   "cell_type": "code",
   "execution_count": 11,
   "id": "47348ca4",
   "metadata": {},
   "outputs": [],
   "source": [
    "# Getting the probabilities for the train set\n",
    "stacked_train_probabilities = stacker.predict_proba(X_train)\n",
    "\n",
    "# Since it's binary classification, the probability for the positive class is in the second column\n",
    "stacked_train_probabilities_pos_class = stacked_train_probabilities[:, 1]\n",
    "\n",
    "# Getting the probabilities for the test set\n",
    "stacked_test_probabilities = stacker.predict_proba(X_test)\n",
    "stacked_test_probabilities_pos_class = stacked_test_probabilities[:, 1]"
   ]
  },
  {
   "cell_type": "markdown",
   "id": "0d2a12c2",
   "metadata": {},
   "source": [
    "# Late Fusion of Stacked ensemle model and Early Fusion model\n",
    "\n",
    "We will get the predicted probabilities from late fusion and early fusion models. We will average these and find a threshold that has highest performance."
   ]
  },
  {
   "cell_type": "code",
   "execution_count": 12,
   "id": "4366dc5b",
   "metadata": {},
   "outputs": [
    {
     "data": {
      "image/png": "[encoded data removed]",
      "text/plain": [
       "<Figure size 1000x600 with 1 Axes>"
      ]
     },
     "metadata": {},
     "output_type": "display_data"
    }
   ],
   "source": [
    "import numpy as np\n",
    "import matplotlib.pyplot as plt\n",
    "\n",
    "# Calculate average predictions\n",
    "avg_probs_train =(xg_train_probabilities_pos_class + stacked_train_probabilities_pos_class) / 2\n",
    "avg_probs_test = (xg_test_probabilities_pos_class + stacked_test_probabilities_pos_class) / 2\n",
    "\n",
    "thresholds = np.linspace(0, 1, 100)\n",
    "train_accuracies = []\n",
    "test_accuracies = []\n",
    "\n",
    "# Iterate over each threshold\n",
    "for threshold in thresholds:\n",
    "    avg_preds_train = (avg_probs_train > threshold).astype(int)\n",
    "    avg_preds_test = (avg_probs_test > threshold).astype(int)\n",
    "    \n",
    "    train_accuracy = np.mean(avg_preds_train == y_train)\n",
    "    test_accuracy = np.mean(avg_preds_test == y_test)\n",
    "    \n",
    "    train_accuracies.append(train_accuracy)\n",
    "    test_accuracies.append(test_accuracy)\n",
    "\n",
    "# Identify the threshold with the highest test accuracy\n",
    "max_acc_index = np.argmax(test_accuracies)\n",
    "max_acc_threshold = thresholds[max_acc_index]\n",
    "\n",
    "# Plotting\n",
    "plt.figure(figsize=(10, 6))\n",
    "plt.plot(thresholds, train_accuracies, label='Train Accuracy', color='blue')\n",
    "plt.plot(thresholds, test_accuracies, label='Test Accuracy', color='red')\n",
    "plt.axvline(x=max_acc_threshold, color='green', linestyle='--', label=f'Best Threshold: {max_acc_threshold:.2f}')\n",
    "plt.xlabel('Threshold')\n",
    "plt.ylabel('Accuracy')\n",
    "plt.legend()\n",
    "plt.title('Accuracy vs. Threshold')\n",
    "plt.grid(True)\n",
    "plt.tight_layout()\n",
    "plt.show()\n"
   ]
  },
  {
   "cell_type": "code",
   "execution_count": 14,
   "id": "0ff6e1a8",
   "metadata": {},
   "outputs": [
    {
     "name": "stdout",
     "output_type": "stream",
     "text": [
      "Train Metrics at Threshold 0.52:\n",
      "Accuracy: 0.8477970627503337\n",
      "Precision: 0.8621553884711779\n",
      "Recall: 0.8535980148883374\n",
      "F1 Score: 0.8578553615960098\n",
      "\n",
      "Test Metrics at Threshold 0.52:\n",
      "Accuracy: 0.8878504672897196\n",
      "Precision: 0.9028571428571428\n",
      "Recall: 0.8926553672316384\n",
      "F1 Score: 0.8977272727272727\n"
     ]
    }
   ],
   "source": [
    "threshold = 0.52\n",
    "\n",
    "# Convert averaged probabilities to binary predictions using the threshold\n",
    "avg_preds_train = (avg_probs_train > threshold).astype(int)\n",
    "avg_preds_test = (avg_probs_test > threshold).astype(int)\n",
    "\n",
    "# Display metrics for train set\n",
    "print('Train Metrics at Threshold 0.52:')\n",
    "display_metrics(avg_preds_train, y_train)\n",
    "\n",
    "# Display metrics for test set\n",
    "print('\\nTest Metrics at Threshold 0.52:')\n",
    "display_metrics(avg_preds_test, y_test)\n"
   ]
  },
  {
   "cell_type": "markdown",
   "id": "57b9ca30",
   "metadata": {},
   "source": [
    "#### Observation: The final ensemble or the Late Fusion model produces the best performance on test set.\n",
    "The greater performance of test metrics than train metrics is most likely due to very low size of test set because of limited data available to train. Each correct or incorrect classification affects test results by 1% which might contribute to test set having higher performance"
   ]
  }
 ],
 "metadata": {
  "kernelspec": {
   "display_name": "Python 3 (ipykernel)",
   "language": "python",
   "name": "python3"
  },
  "language_info": {
   "codemirror_mode": {
    "name": "ipython",
    "version": 3
   },
   "file_extension": ".py",
   "mimetype": "text/x-python",
   "name": "python",
   "nbconvert_exporter": "python",
   "pygments_lexer": "ipython3",
   "version": "3.11.4"
  }
 },
 "nbformat": 4,
 "nbformat_minor": 5
}
