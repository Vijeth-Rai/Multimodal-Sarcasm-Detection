{
 "cells": [
  {
   "cell_type": "markdown",
   "id": "ab856509",
   "metadata": {},
   "source": [
    "# Get screenshots \n",
    "\n",
    "By logic, speaker face will be shown when they speak. Hence taking screenshots at the beginning of each speaker."
   ]
  },
  {
   "cell_type": "code",
   "execution_count": 1,
   "id": "5acfda77",
   "metadata": {},
   "outputs": [
    {
     "data": {
      "text/html": [
       "<div>\n",
       "<style scoped>\n",
       "    .dataframe tbody tr th:only-of-type {\n",
       "        vertical-align: middle;\n",
       "    }\n",
       "\n",
       "    .dataframe tbody tr th {\n",
       "        vertical-align: top;\n",
       "    }\n",
       "\n",
       "    .dataframe thead th {\n",
       "        text-align: right;\n",
       "    }\n",
       "</style>\n",
       "<table border=\"1\" class=\"dataframe\">\n",
       "  <thead>\n",
       "    <tr style=\"text-align: right;\">\n",
       "      <th></th>\n",
       "      <th>SCENE</th>\n",
       "      <th>KEY</th>\n",
       "      <th>SENTENCE</th>\n",
       "      <th>END_TIME</th>\n",
       "      <th>SPEAKER</th>\n",
       "      <th>SHOW</th>\n",
       "      <th>Sarcasm</th>\n",
       "    </tr>\n",
       "  </thead>\n",
       "  <tbody>\n",
       "    <tr>\n",
       "      <th>5</th>\n",
       "      <td>1_10004</td>\n",
       "      <td>1_10004_u</td>\n",
       "      <td>And of those few months, how long have you bee...</td>\n",
       "      <td>0:07</td>\n",
       "      <td>SHELDON</td>\n",
       "      <td>BBT</td>\n",
       "      <td>0.0</td>\n",
       "    </tr>\n",
       "    <tr>\n",
       "      <th>14</th>\n",
       "      <td>1_10009</td>\n",
       "      <td>1_10009_u</td>\n",
       "      <td>Let the dead man talk. So, why do you think that?</td>\n",
       "      <td>0:05</td>\n",
       "      <td>PENNY</td>\n",
       "      <td>BBT</td>\n",
       "      <td>0.0</td>\n",
       "    </tr>\n",
       "    <tr>\n",
       "      <th>18</th>\n",
       "      <td>1_1001</td>\n",
       "      <td>1_1001_u</td>\n",
       "      <td>What else? Sell it on eBay as \"slightly used.\"</td>\n",
       "      <td>0:04</td>\n",
       "      <td>RAJ</td>\n",
       "      <td>BBT</td>\n",
       "      <td>0.0</td>\n",
       "    </tr>\n",
       "    <tr>\n",
       "      <th>24</th>\n",
       "      <td>1_1003</td>\n",
       "      <td>1_1003_u</td>\n",
       "      <td>Good idea, sit with her. Hold her, comfort her...</td>\n",
       "      <td>0:08</td>\n",
       "      <td>HOWARD</td>\n",
       "      <td>BBT</td>\n",
       "      <td>1.0</td>\n",
       "    </tr>\n",
       "    <tr>\n",
       "      <th>31</th>\n",
       "      <td>1_10190</td>\n",
       "      <td>1_10190_u</td>\n",
       "      <td>Well, now that I've given up string theory, I'...</td>\n",
       "      <td>0:11</td>\n",
       "      <td>SHELDON</td>\n",
       "      <td>BBT</td>\n",
       "      <td>0.0</td>\n",
       "    </tr>\n",
       "  </tbody>\n",
       "</table>\n",
       "</div>"
      ],
      "text/plain": [
       "      SCENE        KEY                                           SENTENCE   \n",
       "5   1_10004  1_10004_u  And of those few months, how long have you bee...  \\\n",
       "14  1_10009  1_10009_u  Let the dead man talk. So, why do you think that?   \n",
       "18   1_1001   1_1001_u     What else? Sell it on eBay as \"slightly used.\"   \n",
       "24   1_1003   1_1003_u  Good idea, sit with her. Hold her, comfort her...   \n",
       "31  1_10190  1_10190_u  Well, now that I've given up string theory, I'...   \n",
       "\n",
       "   END_TIME  SPEAKER SHOW  Sarcasm  \n",
       "5      0:07  SHELDON  BBT      0.0  \n",
       "14     0:05    PENNY  BBT      0.0  \n",
       "18     0:04      RAJ  BBT      0.0  \n",
       "24     0:08   HOWARD  BBT      1.0  \n",
       "31     0:11  SHELDON  BBT      0.0  "
      ]
     },
     "execution_count": 1,
     "metadata": {},
     "output_type": "execute_result"
    }
   ],
   "source": [
    "import pandas as pd\n",
    "from moviepy.editor import VideoFileClip\n",
    "from tqdm import tqdm\n",
    "\n",
    "# Define the paths\n",
    "utterance_video_path = 'mustard++/final_utterance_videos/final_utterance_videos'\n",
    "context_video_path = 'mustard++/final_context_videos/final_context_videos'\n",
    "screenshot_path = 'mustard++/screenshots'\n",
    "\n",
    "# Read the dataframe\n",
    "df = pd.read_csv('mustard++/dataframe.csv')\n",
    "\n",
    "def standardize_end_time(time_str):\n",
    "    time_parts = time_str.split(':')\n",
    "    minutes = time_parts[0]\n",
    "    seconds = time_parts[-1]\n",
    "    if len(seconds) == 1:\n",
    "        seconds += '0'\n",
    "    return minutes + ':' + seconds\n",
    "\n",
    "df.loc[:, 'END_TIME'] = df['END_TIME'].apply(standardize_end_time)\n",
    "df = df.iloc[:, :-5]\n",
    "mask = df['KEY'].str[-1] == 'u'\n",
    "df = df[mask]\n",
    "\n",
    "df.head()"
   ]
  },
  {
   "cell_type": "code",
   "execution_count": 2,
   "id": "f5d634ae",
   "metadata": {},
   "outputs": [
    {
     "name": "stderr",
     "output_type": "stream",
     "text": [
      "100%|██████████████████████████████████████████████████████████████████████████████| 1201/1201 [09:51<00:00,  2.03it/s]\n"
     ]
    }
   ],
   "source": [
    "for _, record in tqdm(df.iterrows(),total=df.shape[0]):\n",
    "    video_file = f\"{utterance_video_path}/{record['KEY']}.mp4\"\n",
    "    screenshot_prefix = f\"{screenshot_path}/{record['KEY']}\"\n",
    "    clip = VideoFileClip(video_file)\n",
    "    end_time = clip.duration\n",
    "    clip.save_frame(f\"{screenshot_prefix}_after.png\", t=end_time-0.1)  "
   ]
  },
  {
   "cell_type": "markdown",
   "id": "13c42aa6",
   "metadata": {},
   "source": [
    "# Observation:\n",
    "There are many images that do not have faces but have background. This is unreliable method and needs to be manually screenshotted"
   ]
  }
 ],
 "metadata": {
  "kernelspec": {
   "display_name": "Python 3 (ipykernel)",
   "language": "python",
   "name": "python3"
  },
  "language_info": {
   "codemirror_mode": {
    "name": "ipython",
    "version": 3
   },
   "file_extension": ".py",
   "mimetype": "text/x-python",
   "name": "python",
   "nbconvert_exporter": "python",
   "pygments_lexer": "ipython3",
   "version": "3.11.4"
  }
 },
 "nbformat": 4,
 "nbformat_minor": 5
}
